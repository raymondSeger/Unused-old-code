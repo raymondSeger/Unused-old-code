{
 "cells": [
  {
   "cell_type": "code",
   "execution_count": 1,
   "metadata": {},
   "outputs": [
    {
     "data": {
      "text/plain": [
       "0    1.0\n",
       "1    3.0\n",
       "2    5.0\n",
       "3    NaN\n",
       "4    6.0\n",
       "5    8.0\n",
       "dtype: float64"
      ]
     },
     "execution_count": 1,
     "metadata": {},
     "output_type": "execute_result"
    }
   ],
   "source": [
    "import numpy as np\n",
    "import pandas as pd\n",
    "\n",
    "s = pd.Series([1, 3, 5, np.nan, 6, 8])\n",
    "s"
   ]
  },
  {
   "cell_type": "code",
   "execution_count": 2,
   "metadata": {},
   "outputs": [
    {
     "data": {
      "text/plain": [
       "DatetimeIndex(['2013-01-01', '2013-01-02', '2013-01-03', '2013-01-04',\n",
       "               '2013-01-05', '2013-01-06'],\n",
       "              dtype='datetime64[ns]', freq='D')"
      ]
     },
     "execution_count": 2,
     "metadata": {},
     "output_type": "execute_result"
    }
   ],
   "source": [
    "dates = pd.date_range('20130101', periods=6)\n",
    "dates"
   ]
  },
  {
   "cell_type": "code",
   "execution_count": 6,
   "metadata": {},
   "outputs": [
    {
     "data": {
      "text/html": [
       "<div>\n",
       "<style scoped>\n",
       "    .dataframe tbody tr th:only-of-type {\n",
       "        vertical-align: middle;\n",
       "    }\n",
       "\n",
       "    .dataframe tbody tr th {\n",
       "        vertical-align: top;\n",
       "    }\n",
       "\n",
       "    .dataframe thead th {\n",
       "        text-align: right;\n",
       "    }\n",
       "</style>\n",
       "<table border=\"1\" class=\"dataframe\">\n",
       "  <thead>\n",
       "    <tr style=\"text-align: right;\">\n",
       "      <th></th>\n",
       "      <th>A</th>\n",
       "      <th>B</th>\n",
       "      <th>C</th>\n",
       "      <th>F</th>\n",
       "    </tr>\n",
       "  </thead>\n",
       "  <tbody>\n",
       "    <tr>\n",
       "      <th>2013-01-01</th>\n",
       "      <td>0.040485</td>\n",
       "      <td>-0.276811</td>\n",
       "      <td>-1.430488</td>\n",
       "      <td>0.345556</td>\n",
       "    </tr>\n",
       "    <tr>\n",
       "      <th>2013-01-02</th>\n",
       "      <td>1.513573</td>\n",
       "      <td>-0.302372</td>\n",
       "      <td>-0.108049</td>\n",
       "      <td>-0.366154</td>\n",
       "    </tr>\n",
       "    <tr>\n",
       "      <th>2013-01-03</th>\n",
       "      <td>0.906765</td>\n",
       "      <td>0.551275</td>\n",
       "      <td>-1.429580</td>\n",
       "      <td>-0.290765</td>\n",
       "    </tr>\n",
       "    <tr>\n",
       "      <th>2013-01-04</th>\n",
       "      <td>-0.347380</td>\n",
       "      <td>-0.729747</td>\n",
       "      <td>1.642828</td>\n",
       "      <td>1.318880</td>\n",
       "    </tr>\n",
       "    <tr>\n",
       "      <th>2013-01-05</th>\n",
       "      <td>-0.806890</td>\n",
       "      <td>-0.075871</td>\n",
       "      <td>-1.880836</td>\n",
       "      <td>-1.328672</td>\n",
       "    </tr>\n",
       "    <tr>\n",
       "      <th>2013-01-06</th>\n",
       "      <td>-0.516522</td>\n",
       "      <td>-0.136361</td>\n",
       "      <td>-1.411815</td>\n",
       "      <td>-0.156300</td>\n",
       "    </tr>\n",
       "  </tbody>\n",
       "</table>\n",
       "</div>"
      ],
      "text/plain": [
       "                   A         B         C         F\n",
       "2013-01-01  0.040485 -0.276811 -1.430488  0.345556\n",
       "2013-01-02  1.513573 -0.302372 -0.108049 -0.366154\n",
       "2013-01-03  0.906765  0.551275 -1.429580 -0.290765\n",
       "2013-01-04 -0.347380 -0.729747  1.642828  1.318880\n",
       "2013-01-05 -0.806890 -0.075871 -1.880836 -1.328672\n",
       "2013-01-06 -0.516522 -0.136361 -1.411815 -0.156300"
      ]
     },
     "execution_count": 6,
     "metadata": {},
     "output_type": "execute_result"
    }
   ],
   "source": [
    "df = pd.DataFrame(np.random.randn(6, 4), index=dates, columns=list('ABCD'))\n",
    "df"
   ]
  },
  {
   "cell_type": "code",
   "execution_count": 7,
   "metadata": {},
   "outputs": [
    {
     "data": {
      "text/html": [
       "<div>\n",
       "<style scoped>\n",
       "    .dataframe tbody tr th:only-of-type {\n",
       "        vertical-align: middle;\n",
       "    }\n",
       "\n",
       "    .dataframe tbody tr th {\n",
       "        vertical-align: top;\n",
       "    }\n",
       "\n",
       "    .dataframe thead th {\n",
       "        text-align: right;\n",
       "    }\n",
       "</style>\n",
       "<table border=\"1\" class=\"dataframe\">\n",
       "  <thead>\n",
       "    <tr style=\"text-align: right;\">\n",
       "      <th></th>\n",
       "      <th>A</th>\n",
       "      <th>B</th>\n",
       "      <th>C</th>\n",
       "      <th>D</th>\n",
       "      <th>E</th>\n",
       "      <th>F</th>\n",
       "    </tr>\n",
       "  </thead>\n",
       "  <tbody>\n",
       "    <tr>\n",
       "      <th>0</th>\n",
       "      <td>1.0</td>\n",
       "      <td>2013-01-02</td>\n",
       "      <td>1.0</td>\n",
       "      <td>3</td>\n",
       "      <td>test</td>\n",
       "      <td>foo</td>\n",
       "    </tr>\n",
       "    <tr>\n",
       "      <th>1</th>\n",
       "      <td>1.0</td>\n",
       "      <td>2013-01-02</td>\n",
       "      <td>1.0</td>\n",
       "      <td>3</td>\n",
       "      <td>train</td>\n",
       "      <td>foo</td>\n",
       "    </tr>\n",
       "    <tr>\n",
       "      <th>2</th>\n",
       "      <td>1.0</td>\n",
       "      <td>2013-01-02</td>\n",
       "      <td>1.0</td>\n",
       "      <td>3</td>\n",
       "      <td>test</td>\n",
       "      <td>foo</td>\n",
       "    </tr>\n",
       "    <tr>\n",
       "      <th>3</th>\n",
       "      <td>1.0</td>\n",
       "      <td>2013-01-02</td>\n",
       "      <td>1.0</td>\n",
       "      <td>3</td>\n",
       "      <td>train</td>\n",
       "      <td>foo</td>\n",
       "    </tr>\n",
       "  </tbody>\n",
       "</table>\n",
       "</div>"
      ],
      "text/plain": [
       "     A          B    C  D      E    F\n",
       "0  1.0 2013-01-02  1.0  3   test  foo\n",
       "1  1.0 2013-01-02  1.0  3  train  foo\n",
       "2  1.0 2013-01-02  1.0  3   test  foo\n",
       "3  1.0 2013-01-02  1.0  3  train  foo"
      ]
     },
     "execution_count": 7,
     "metadata": {},
     "output_type": "execute_result"
    }
   ],
   "source": [
    "df2 = pd.DataFrame({'A': 1.,\n",
    "'B': pd.Timestamp('20130102'),\n",
    "'C': pd.Series(1, index=list(range(4)), dtype='float32'),\n",
    "'D': np.array([3] * 4, dtype='int32'),\n",
    "'E': pd.Categorical([\"test\", \"train\", \"test\", \"train\"]),\n",
    "'F': 'foo'})\n",
    "df2"
   ]
  },
  {
   "cell_type": "code",
   "execution_count": 8,
   "metadata": {},
   "outputs": [
    {
     "data": {
      "text/plain": [
       "A           float64\n",
       "B    datetime64[ns]\n",
       "C           float32\n",
       "D             int32\n",
       "E          category\n",
       "F            object\n",
       "dtype: object"
      ]
     },
     "execution_count": 8,
     "metadata": {},
     "output_type": "execute_result"
    }
   ],
   "source": [
    "df2.dtypes"
   ]
  },
  {
   "cell_type": "code",
   "execution_count": 9,
   "metadata": {},
   "outputs": [
    {
     "data": {
      "text/html": [
       "<div>\n",
       "<style scoped>\n",
       "    .dataframe tbody tr th:only-of-type {\n",
       "        vertical-align: middle;\n",
       "    }\n",
       "\n",
       "    .dataframe tbody tr th {\n",
       "        vertical-align: top;\n",
       "    }\n",
       "\n",
       "    .dataframe thead th {\n",
       "        text-align: right;\n",
       "    }\n",
       "</style>\n",
       "<table border=\"1\" class=\"dataframe\">\n",
       "  <thead>\n",
       "    <tr style=\"text-align: right;\">\n",
       "      <th></th>\n",
       "      <th>A</th>\n",
       "      <th>B</th>\n",
       "      <th>C</th>\n",
       "      <th>F</th>\n",
       "    </tr>\n",
       "  </thead>\n",
       "  <tbody>\n",
       "    <tr>\n",
       "      <th>2013-01-01</th>\n",
       "      <td>0.040485</td>\n",
       "      <td>-0.276811</td>\n",
       "      <td>-1.430488</td>\n",
       "      <td>0.345556</td>\n",
       "    </tr>\n",
       "    <tr>\n",
       "      <th>2013-01-02</th>\n",
       "      <td>1.513573</td>\n",
       "      <td>-0.302372</td>\n",
       "      <td>-0.108049</td>\n",
       "      <td>-0.366154</td>\n",
       "    </tr>\n",
       "    <tr>\n",
       "      <th>2013-01-03</th>\n",
       "      <td>0.906765</td>\n",
       "      <td>0.551275</td>\n",
       "      <td>-1.429580</td>\n",
       "      <td>-0.290765</td>\n",
       "    </tr>\n",
       "    <tr>\n",
       "      <th>2013-01-04</th>\n",
       "      <td>-0.347380</td>\n",
       "      <td>-0.729747</td>\n",
       "      <td>1.642828</td>\n",
       "      <td>1.318880</td>\n",
       "    </tr>\n",
       "    <tr>\n",
       "      <th>2013-01-05</th>\n",
       "      <td>-0.806890</td>\n",
       "      <td>-0.075871</td>\n",
       "      <td>-1.880836</td>\n",
       "      <td>-1.328672</td>\n",
       "    </tr>\n",
       "  </tbody>\n",
       "</table>\n",
       "</div>"
      ],
      "text/plain": [
       "                   A         B         C         F\n",
       "2013-01-01  0.040485 -0.276811 -1.430488  0.345556\n",
       "2013-01-02  1.513573 -0.302372 -0.108049 -0.366154\n",
       "2013-01-03  0.906765  0.551275 -1.429580 -0.290765\n",
       "2013-01-04 -0.347380 -0.729747  1.642828  1.318880\n",
       "2013-01-05 -0.806890 -0.075871 -1.880836 -1.328672"
      ]
     },
     "execution_count": 9,
     "metadata": {},
     "output_type": "execute_result"
    }
   ],
   "source": [
    "df.head()"
   ]
  },
  {
   "cell_type": "code",
   "execution_count": 10,
   "metadata": {},
   "outputs": [
    {
     "data": {
      "text/html": [
       "<div>\n",
       "<style scoped>\n",
       "    .dataframe tbody tr th:only-of-type {\n",
       "        vertical-align: middle;\n",
       "    }\n",
       "\n",
       "    .dataframe tbody tr th {\n",
       "        vertical-align: top;\n",
       "    }\n",
       "\n",
       "    .dataframe thead th {\n",
       "        text-align: right;\n",
       "    }\n",
       "</style>\n",
       "<table border=\"1\" class=\"dataframe\">\n",
       "  <thead>\n",
       "    <tr style=\"text-align: right;\">\n",
       "      <th></th>\n",
       "      <th>A</th>\n",
       "      <th>B</th>\n",
       "      <th>C</th>\n",
       "      <th>F</th>\n",
       "    </tr>\n",
       "  </thead>\n",
       "  <tbody>\n",
       "    <tr>\n",
       "      <th>2013-01-04</th>\n",
       "      <td>-0.347380</td>\n",
       "      <td>-0.729747</td>\n",
       "      <td>1.642828</td>\n",
       "      <td>1.318880</td>\n",
       "    </tr>\n",
       "    <tr>\n",
       "      <th>2013-01-05</th>\n",
       "      <td>-0.806890</td>\n",
       "      <td>-0.075871</td>\n",
       "      <td>-1.880836</td>\n",
       "      <td>-1.328672</td>\n",
       "    </tr>\n",
       "    <tr>\n",
       "      <th>2013-01-06</th>\n",
       "      <td>-0.516522</td>\n",
       "      <td>-0.136361</td>\n",
       "      <td>-1.411815</td>\n",
       "      <td>-0.156300</td>\n",
       "    </tr>\n",
       "  </tbody>\n",
       "</table>\n",
       "</div>"
      ],
      "text/plain": [
       "                   A         B         C         F\n",
       "2013-01-04 -0.347380 -0.729747  1.642828  1.318880\n",
       "2013-01-05 -0.806890 -0.075871 -1.880836 -1.328672\n",
       "2013-01-06 -0.516522 -0.136361 -1.411815 -0.156300"
      ]
     },
     "execution_count": 10,
     "metadata": {},
     "output_type": "execute_result"
    }
   ],
   "source": [
    "df.tail(3)"
   ]
  },
  {
   "cell_type": "code",
   "execution_count": 11,
   "metadata": {},
   "outputs": [
    {
     "data": {
      "text/plain": [
       "DatetimeIndex(['2013-01-01', '2013-01-02', '2013-01-03', '2013-01-04',\n",
       "               '2013-01-05', '2013-01-06'],\n",
       "              dtype='datetime64[ns]', freq='D')"
      ]
     },
     "execution_count": 11,
     "metadata": {},
     "output_type": "execute_result"
    }
   ],
   "source": [
    "df.index"
   ]
  },
  {
   "cell_type": "code",
   "execution_count": 12,
   "metadata": {},
   "outputs": [
    {
     "data": {
      "text/plain": [
       "Index([u'A', u'B', u'C', u'F'], dtype='object')"
      ]
     },
     "execution_count": 12,
     "metadata": {},
     "output_type": "execute_result"
    }
   ],
   "source": [
    "df.columns"
   ]
  },
  {
   "cell_type": "code",
   "execution_count": 18,
   "metadata": {},
   "outputs": [
    {
     "data": {
      "text/html": [
       "<div>\n",
       "<style scoped>\n",
       "    .dataframe tbody tr th:only-of-type {\n",
       "        vertical-align: middle;\n",
       "    }\n",
       "\n",
       "    .dataframe tbody tr th {\n",
       "        vertical-align: top;\n",
       "    }\n",
       "\n",
       "    .dataframe thead th {\n",
       "        text-align: right;\n",
       "    }\n",
       "</style>\n",
       "<table border=\"1\" class=\"dataframe\">\n",
       "  <thead>\n",
       "    <tr style=\"text-align: right;\">\n",
       "      <th></th>\n",
       "      <th>A</th>\n",
       "      <th>B</th>\n",
       "      <th>C</th>\n",
       "      <th>D</th>\n",
       "    </tr>\n",
       "  </thead>\n",
       "  <tbody>\n",
       "    <tr>\n",
       "      <th>count</th>\n",
       "      <td>6.000000</td>\n",
       "      <td>6.000000</td>\n",
       "      <td>6.000000</td>\n",
       "      <td>6.000000</td>\n",
       "    </tr>\n",
       "    <tr>\n",
       "      <th>mean</th>\n",
       "      <td>0.361255</td>\n",
       "      <td>0.085358</td>\n",
       "      <td>-0.355609</td>\n",
       "      <td>0.232253</td>\n",
       "    </tr>\n",
       "    <tr>\n",
       "      <th>std</th>\n",
       "      <td>0.947501</td>\n",
       "      <td>0.580190</td>\n",
       "      <td>0.815755</td>\n",
       "      <td>0.723688</td>\n",
       "    </tr>\n",
       "    <tr>\n",
       "      <th>min</th>\n",
       "      <td>-0.973686</td>\n",
       "      <td>-0.546628</td>\n",
       "      <td>-1.323373</td>\n",
       "      <td>-0.681652</td>\n",
       "    </tr>\n",
       "    <tr>\n",
       "      <th>25%</th>\n",
       "      <td>-0.021940</td>\n",
       "      <td>-0.259397</td>\n",
       "      <td>-0.828199</td>\n",
       "      <td>-0.022033</td>\n",
       "    </tr>\n",
       "    <tr>\n",
       "      <th>50%</th>\n",
       "      <td>0.294126</td>\n",
       "      <td>-0.003910</td>\n",
       "      <td>-0.378430</td>\n",
       "      <td>0.113258</td>\n",
       "    </tr>\n",
       "    <tr>\n",
       "      <th>75%</th>\n",
       "      <td>0.691114</td>\n",
       "      <td>0.230382</td>\n",
       "      <td>-0.191539</td>\n",
       "      <td>0.329793</td>\n",
       "    </tr>\n",
       "    <tr>\n",
       "      <th>max</th>\n",
       "      <td>1.856818</td>\n",
       "      <td>1.102677</td>\n",
       "      <td>1.053945</td>\n",
       "      <td>1.513815</td>\n",
       "    </tr>\n",
       "  </tbody>\n",
       "</table>\n",
       "</div>"
      ],
      "text/plain": [
       "              A         B         C         D\n",
       "count  6.000000  6.000000  6.000000  6.000000\n",
       "mean   0.361255  0.085358 -0.355609  0.232253\n",
       "std    0.947501  0.580190  0.815755  0.723688\n",
       "min   -0.973686 -0.546628 -1.323373 -0.681652\n",
       "25%   -0.021940 -0.259397 -0.828199 -0.022033\n",
       "50%    0.294126 -0.003910 -0.378430  0.113258\n",
       "75%    0.691114  0.230382 -0.191539  0.329793\n",
       "max    1.856818  1.102677  1.053945  1.513815"
      ]
     },
     "execution_count": 18,
     "metadata": {},
     "output_type": "execute_result"
    }
   ],
   "source": [
    "df.describe()"
   ]
  },
  {
   "cell_type": "code",
   "execution_count": 19,
   "metadata": {},
   "outputs": [
    {
     "data": {
      "text/html": [
       "<div>\n",
       "<style scoped>\n",
       "    .dataframe tbody tr th:only-of-type {\n",
       "        vertical-align: middle;\n",
       "    }\n",
       "\n",
       "    .dataframe tbody tr th {\n",
       "        vertical-align: top;\n",
       "    }\n",
       "\n",
       "    .dataframe thead th {\n",
       "        text-align: right;\n",
       "    }\n",
       "</style>\n",
       "<table border=\"1\" class=\"dataframe\">\n",
       "  <thead>\n",
       "    <tr style=\"text-align: right;\">\n",
       "      <th></th>\n",
       "      <th>2013-01-01 00:00:00</th>\n",
       "      <th>2013-01-02 00:00:00</th>\n",
       "      <th>2013-01-03 00:00:00</th>\n",
       "      <th>2013-01-04 00:00:00</th>\n",
       "      <th>2013-01-05 00:00:00</th>\n",
       "      <th>2013-01-06 00:00:00</th>\n",
       "    </tr>\n",
       "  </thead>\n",
       "  <tbody>\n",
       "    <tr>\n",
       "      <th>A</th>\n",
       "      <td>0.723993</td>\n",
       "      <td>-0.027846</td>\n",
       "      <td>-0.973686</td>\n",
       "      <td>1.856818</td>\n",
       "      <td>-0.004225</td>\n",
       "      <td>0.592476</td>\n",
       "    </tr>\n",
       "    <tr>\n",
       "      <th>B</th>\n",
       "      <td>0.244579</td>\n",
       "      <td>-0.546628</td>\n",
       "      <td>-0.280659</td>\n",
       "      <td>0.187791</td>\n",
       "      <td>1.102677</td>\n",
       "      <td>-0.195610</td>\n",
       "    </tr>\n",
       "    <tr>\n",
       "      <th>C</th>\n",
       "      <td>-1.323373</td>\n",
       "      <td>-0.173822</td>\n",
       "      <td>-0.933542</td>\n",
       "      <td>1.053945</td>\n",
       "      <td>-0.244688</td>\n",
       "      <td>-0.512171</td>\n",
       "    </tr>\n",
       "    <tr>\n",
       "      <th>D</th>\n",
       "      <td>-0.681652</td>\n",
       "      <td>1.513815</td>\n",
       "      <td>0.135028</td>\n",
       "      <td>0.091488</td>\n",
       "      <td>-0.059873</td>\n",
       "      <td>0.394714</td>\n",
       "    </tr>\n",
       "  </tbody>\n",
       "</table>\n",
       "</div>"
      ],
      "text/plain": [
       "   2013-01-01  2013-01-02  2013-01-03  2013-01-04  2013-01-05  2013-01-06\n",
       "A    0.723993   -0.027846   -0.973686    1.856818   -0.004225    0.592476\n",
       "B    0.244579   -0.546628   -0.280659    0.187791    1.102677   -0.195610\n",
       "C   -1.323373   -0.173822   -0.933542    1.053945   -0.244688   -0.512171\n",
       "D   -0.681652    1.513815    0.135028    0.091488   -0.059873    0.394714"
      ]
     },
     "execution_count": 19,
     "metadata": {},
     "output_type": "execute_result"
    }
   ],
   "source": [
    "df.T"
   ]
  },
  {
   "cell_type": "code",
   "execution_count": 20,
   "metadata": {},
   "outputs": [
    {
     "data": {
      "text/html": [
       "<div>\n",
       "<style scoped>\n",
       "    .dataframe tbody tr th:only-of-type {\n",
       "        vertical-align: middle;\n",
       "    }\n",
       "\n",
       "    .dataframe tbody tr th {\n",
       "        vertical-align: top;\n",
       "    }\n",
       "\n",
       "    .dataframe thead th {\n",
       "        text-align: right;\n",
       "    }\n",
       "</style>\n",
       "<table border=\"1\" class=\"dataframe\">\n",
       "  <thead>\n",
       "    <tr style=\"text-align: right;\">\n",
       "      <th></th>\n",
       "      <th>D</th>\n",
       "      <th>C</th>\n",
       "      <th>B</th>\n",
       "      <th>A</th>\n",
       "    </tr>\n",
       "  </thead>\n",
       "  <tbody>\n",
       "    <tr>\n",
       "      <th>2013-01-01</th>\n",
       "      <td>-0.681652</td>\n",
       "      <td>-1.323373</td>\n",
       "      <td>0.244579</td>\n",
       "      <td>0.723993</td>\n",
       "    </tr>\n",
       "    <tr>\n",
       "      <th>2013-01-02</th>\n",
       "      <td>1.513815</td>\n",
       "      <td>-0.173822</td>\n",
       "      <td>-0.546628</td>\n",
       "      <td>-0.027846</td>\n",
       "    </tr>\n",
       "    <tr>\n",
       "      <th>2013-01-03</th>\n",
       "      <td>0.135028</td>\n",
       "      <td>-0.933542</td>\n",
       "      <td>-0.280659</td>\n",
       "      <td>-0.973686</td>\n",
       "    </tr>\n",
       "    <tr>\n",
       "      <th>2013-01-04</th>\n",
       "      <td>0.091488</td>\n",
       "      <td>1.053945</td>\n",
       "      <td>0.187791</td>\n",
       "      <td>1.856818</td>\n",
       "    </tr>\n",
       "    <tr>\n",
       "      <th>2013-01-05</th>\n",
       "      <td>-0.059873</td>\n",
       "      <td>-0.244688</td>\n",
       "      <td>1.102677</td>\n",
       "      <td>-0.004225</td>\n",
       "    </tr>\n",
       "    <tr>\n",
       "      <th>2013-01-06</th>\n",
       "      <td>0.394714</td>\n",
       "      <td>-0.512171</td>\n",
       "      <td>-0.195610</td>\n",
       "      <td>0.592476</td>\n",
       "    </tr>\n",
       "  </tbody>\n",
       "</table>\n",
       "</div>"
      ],
      "text/plain": [
       "                   D         C         B         A\n",
       "2013-01-01 -0.681652 -1.323373  0.244579  0.723993\n",
       "2013-01-02  1.513815 -0.173822 -0.546628 -0.027846\n",
       "2013-01-03  0.135028 -0.933542 -0.280659 -0.973686\n",
       "2013-01-04  0.091488  1.053945  0.187791  1.856818\n",
       "2013-01-05 -0.059873 -0.244688  1.102677 -0.004225\n",
       "2013-01-06  0.394714 -0.512171 -0.195610  0.592476"
      ]
     },
     "execution_count": 20,
     "metadata": {},
     "output_type": "execute_result"
    }
   ],
   "source": [
    "df.sort_index(axis=1, ascending=False)"
   ]
  },
  {
   "cell_type": "code",
   "execution_count": 21,
   "metadata": {},
   "outputs": [
    {
     "data": {
      "text/plain": [
       "2013-01-01    0.723993\n",
       "2013-01-02   -0.027846\n",
       "2013-01-03   -0.973686\n",
       "2013-01-04    1.856818\n",
       "2013-01-05   -0.004225\n",
       "2013-01-06    0.592476\n",
       "Freq: D, Name: A, dtype: float64"
      ]
     },
     "execution_count": 21,
     "metadata": {},
     "output_type": "execute_result"
    }
   ],
   "source": [
    "df['A']"
   ]
  },
  {
   "cell_type": "code",
   "execution_count": 22,
   "metadata": {},
   "outputs": [
    {
     "data": {
      "text/html": [
       "<div>\n",
       "<style scoped>\n",
       "    .dataframe tbody tr th:only-of-type {\n",
       "        vertical-align: middle;\n",
       "    }\n",
       "\n",
       "    .dataframe tbody tr th {\n",
       "        vertical-align: top;\n",
       "    }\n",
       "\n",
       "    .dataframe thead th {\n",
       "        text-align: right;\n",
       "    }\n",
       "</style>\n",
       "<table border=\"1\" class=\"dataframe\">\n",
       "  <thead>\n",
       "    <tr style=\"text-align: right;\">\n",
       "      <th></th>\n",
       "      <th>A</th>\n",
       "      <th>B</th>\n",
       "      <th>C</th>\n",
       "      <th>D</th>\n",
       "    </tr>\n",
       "  </thead>\n",
       "  <tbody>\n",
       "    <tr>\n",
       "      <th>2013-01-01</th>\n",
       "      <td>0.723993</td>\n",
       "      <td>0.244579</td>\n",
       "      <td>-1.323373</td>\n",
       "      <td>-0.681652</td>\n",
       "    </tr>\n",
       "    <tr>\n",
       "      <th>2013-01-02</th>\n",
       "      <td>-0.027846</td>\n",
       "      <td>-0.546628</td>\n",
       "      <td>-0.173822</td>\n",
       "      <td>1.513815</td>\n",
       "    </tr>\n",
       "    <tr>\n",
       "      <th>2013-01-03</th>\n",
       "      <td>-0.973686</td>\n",
       "      <td>-0.280659</td>\n",
       "      <td>-0.933542</td>\n",
       "      <td>0.135028</td>\n",
       "    </tr>\n",
       "  </tbody>\n",
       "</table>\n",
       "</div>"
      ],
      "text/plain": [
       "                   A         B         C         D\n",
       "2013-01-01  0.723993  0.244579 -1.323373 -0.681652\n",
       "2013-01-02 -0.027846 -0.546628 -0.173822  1.513815\n",
       "2013-01-03 -0.973686 -0.280659 -0.933542  0.135028"
      ]
     },
     "execution_count": 22,
     "metadata": {},
     "output_type": "execute_result"
    }
   ],
   "source": [
    "df[0:3]"
   ]
  },
  {
   "cell_type": "code",
   "execution_count": 23,
   "metadata": {},
   "outputs": [
    {
     "data": {
      "text/html": [
       "<div>\n",
       "<style scoped>\n",
       "    .dataframe tbody tr th:only-of-type {\n",
       "        vertical-align: middle;\n",
       "    }\n",
       "\n",
       "    .dataframe tbody tr th {\n",
       "        vertical-align: top;\n",
       "    }\n",
       "\n",
       "    .dataframe thead th {\n",
       "        text-align: right;\n",
       "    }\n",
       "</style>\n",
       "<table border=\"1\" class=\"dataframe\">\n",
       "  <thead>\n",
       "    <tr style=\"text-align: right;\">\n",
       "      <th></th>\n",
       "      <th>A</th>\n",
       "      <th>B</th>\n",
       "      <th>C</th>\n",
       "      <th>D</th>\n",
       "    </tr>\n",
       "  </thead>\n",
       "  <tbody>\n",
       "    <tr>\n",
       "      <th>2013-01-02</th>\n",
       "      <td>-0.027846</td>\n",
       "      <td>-0.546628</td>\n",
       "      <td>-0.173822</td>\n",
       "      <td>1.513815</td>\n",
       "    </tr>\n",
       "    <tr>\n",
       "      <th>2013-01-03</th>\n",
       "      <td>-0.973686</td>\n",
       "      <td>-0.280659</td>\n",
       "      <td>-0.933542</td>\n",
       "      <td>0.135028</td>\n",
       "    </tr>\n",
       "    <tr>\n",
       "      <th>2013-01-04</th>\n",
       "      <td>1.856818</td>\n",
       "      <td>0.187791</td>\n",
       "      <td>1.053945</td>\n",
       "      <td>0.091488</td>\n",
       "    </tr>\n",
       "  </tbody>\n",
       "</table>\n",
       "</div>"
      ],
      "text/plain": [
       "                   A         B         C         D\n",
       "2013-01-02 -0.027846 -0.546628 -0.173822  1.513815\n",
       "2013-01-03 -0.973686 -0.280659 -0.933542  0.135028\n",
       "2013-01-04  1.856818  0.187791  1.053945  0.091488"
      ]
     },
     "execution_count": 23,
     "metadata": {},
     "output_type": "execute_result"
    }
   ],
   "source": [
    "df['20130102':'20130104']"
   ]
  },
  {
   "cell_type": "code",
   "execution_count": 24,
   "metadata": {},
   "outputs": [
    {
     "data": {
      "text/plain": [
       "A    0.361255\n",
       "B    0.085358\n",
       "C   -0.355609\n",
       "D    0.232253\n",
       "dtype: float64"
      ]
     },
     "execution_count": 24,
     "metadata": {},
     "output_type": "execute_result"
    }
   ],
   "source": [
    "df.mean()"
   ]
  },
  {
   "cell_type": "code",
   "execution_count": 26,
   "metadata": {},
   "outputs": [
    {
     "data": {
      "text/plain": [
       "<pandas.core.groupby.groupby.DataFrameGroupBy object at 0x00000000087EBDA0>"
      ]
     },
     "execution_count": 26,
     "metadata": {},
     "output_type": "execute_result"
    }
   ],
   "source": [
    "df.groupby('A')"
   ]
  },
  {
   "cell_type": "code",
   "execution_count": 27,
   "metadata": {},
   "outputs": [
    {
     "data": {
      "text/plain": [
       "2000-01-01   -0.800853\n",
       "2000-01-02   -0.543159\n",
       "2000-01-03    1.818737\n",
       "2000-01-04   -0.478794\n",
       "2000-01-05    1.247992\n",
       "2000-01-06    0.136586\n",
       "2000-01-07   -0.433727\n",
       "2000-01-08    1.120504\n",
       "2000-01-09   -0.360078\n",
       "2000-01-10   -0.859823\n",
       "2000-01-11   -0.199163\n",
       "2000-01-12   -1.288151\n",
       "2000-01-13   -0.719195\n",
       "2000-01-14   -0.939515\n",
       "2000-01-15    0.511802\n",
       "2000-01-16   -4.283397\n",
       "2000-01-17    1.032043\n",
       "2000-01-18   -0.564063\n",
       "2000-01-19    0.589811\n",
       "2000-01-20   -0.357371\n",
       "2000-01-21   -0.726332\n",
       "2000-01-22    0.816633\n",
       "2000-01-23    0.085454\n",
       "2000-01-24    0.096113\n",
       "2000-01-25   -1.829527\n",
       "2000-01-26    1.056562\n",
       "2000-01-27    0.011632\n",
       "2000-01-28    1.534979\n",
       "2000-01-29   -0.418034\n",
       "2000-01-30    1.390141\n",
       "                ...   \n",
       "2002-08-28    0.757150\n",
       "2002-08-29   -0.216088\n",
       "2002-08-30   -2.077741\n",
       "2002-08-31   -0.876316\n",
       "2002-09-01    0.684105\n",
       "2002-09-02    0.651070\n",
       "2002-09-03   -0.220990\n",
       "2002-09-04   -1.859776\n",
       "2002-09-05   -0.274562\n",
       "2002-09-06   -0.092359\n",
       "2002-09-07    0.276558\n",
       "2002-09-08    0.275241\n",
       "2002-09-09    0.095734\n",
       "2002-09-10    0.344245\n",
       "2002-09-11    1.081682\n",
       "2002-09-12   -0.852052\n",
       "2002-09-13   -0.406553\n",
       "2002-09-14    0.193284\n",
       "2002-09-15   -1.258842\n",
       "2002-09-16    1.039346\n",
       "2002-09-17   -2.105376\n",
       "2002-09-18   -0.210569\n",
       "2002-09-19    0.612194\n",
       "2002-09-20   -0.214287\n",
       "2002-09-21    0.440273\n",
       "2002-09-22   -0.146869\n",
       "2002-09-23   -0.756125\n",
       "2002-09-24   -0.872066\n",
       "2002-09-25   -0.785626\n",
       "2002-09-26    1.371168\n",
       "Freq: D, Length: 1000, dtype: float64"
      ]
     },
     "execution_count": 27,
     "metadata": {},
     "output_type": "execute_result"
    }
   ],
   "source": [
    "ts = pd.Series(np.random.randn(1000),index=pd.date_range('1/1/2000', periods=1000))\n",
    "ts"
   ]
  },
  {
   "cell_type": "code",
   "execution_count": 30,
   "metadata": {},
   "outputs": [
    {
     "data": {
      "text/plain": [
       "2000-01-01      -0.800853\n",
       "2000-01-02      -2.144866\n",
       "2000-01-03      -1.670141\n",
       "2000-01-04      -1.674211\n",
       "2000-01-05      -0.430289\n",
       "2000-01-06       0.950219\n",
       "2000-01-07       1.897000\n",
       "2000-01-08       3.964285\n",
       "2000-01-09       5.671491\n",
       "2000-01-10       6.518874\n",
       "2000-01-11       7.167095\n",
       "2000-01-12       6.527163\n",
       "2000-01-13       5.168037\n",
       "2000-01-14       2.869396\n",
       "2000-01-15       1.082555\n",
       "2000-01-16      -4.987682\n",
       "2000-01-17     -10.025876\n",
       "2000-01-18     -15.628133\n",
       "2000-01-19     -20.640579\n",
       "2000-01-20     -26.010396\n",
       "2000-01-21     -32.106544\n",
       "2000-01-22     -37.386060\n",
       "2000-01-23     -42.580122\n",
       "2000-01-24     -47.678070\n",
       "2000-01-25     -54.605546\n",
       "2000-01-26     -60.476459\n",
       "2000-01-27     -66.335740\n",
       "2000-01-28     -70.660042\n",
       "2000-01-29     -75.402378\n",
       "2000-01-30     -78.754573\n",
       "                 ...     \n",
       "2002-08-28   -2442.260587\n",
       "2002-08-29   -2432.387414\n",
       "2002-08-30   -2424.591981\n",
       "2002-08-31   -2417.672864\n",
       "2002-09-01   -2410.069642\n",
       "2002-09-02   -2401.815350\n",
       "2002-09-03   -2393.782048\n",
       "2002-09-04   -2387.608522\n",
       "2002-09-05   -2381.709559\n",
       "2002-09-06   -2375.902955\n",
       "2002-09-07   -2369.819793\n",
       "2002-09-08   -2363.461389\n",
       "2002-09-09   -2357.007253\n",
       "2002-09-10   -2350.208871\n",
       "2002-09-11   -2342.328807\n",
       "2002-09-12   -2335.300795\n",
       "2002-09-13   -2328.679337\n",
       "2002-09-14   -2321.864593\n",
       "2002-09-15   -2316.308692\n",
       "2002-09-16   -2309.713446\n",
       "2002-09-17   -2305.223575\n",
       "2002-09-18   -2300.944274\n",
       "2002-09-19   -2296.052778\n",
       "2002-09-20   -2291.375569\n",
       "2002-09-21   -2286.258086\n",
       "2002-09-22   -2281.287473\n",
       "2002-09-23   -2277.072984\n",
       "2002-09-24   -2273.730562\n",
       "2002-09-25   -2271.173766\n",
       "2002-09-26   -2267.245802\n",
       "Freq: D, Length: 1000, dtype: float64"
      ]
     },
     "execution_count": 30,
     "metadata": {},
     "output_type": "execute_result"
    }
   ],
   "source": [
    "ts = ts.cumsum()\n",
    "ts"
   ]
  },
  {
   "cell_type": "code",
   "execution_count": 31,
   "metadata": {},
   "outputs": [
    {
     "data": {
      "text/plain": [
       "<matplotlib.axes._subplots.AxesSubplot at 0xb388908>"
      ]
     },
     "execution_count": 31,
     "metadata": {},
     "output_type": "execute_result"
    },
    {
     "data": {
      "image/png": "[encoded data removed]",
      "text/plain": [
       "<Figure size 432x288 with 1 Axes>"
      ]
     },
     "metadata": {},
     "output_type": "display_data"
    }
   ],
   "source": [
    "ts.plot()"
   ]
  },
  {
   "cell_type": "code",
   "execution_count": 34,
   "metadata": {},
   "outputs": [],
   "source": [
    "df.to_excel('foo.xlsx', sheet_name='Sheet1')"
   ]
  },
  {
   "cell_type": "code",
   "execution_count": 38,
   "metadata": {},
   "outputs": [
    {
     "data": {
      "text/html": [
       "<div>\n",
       "<style scoped>\n",
       "    .dataframe tbody tr th:only-of-type {\n",
       "        vertical-align: middle;\n",
       "    }\n",
       "\n",
       "    .dataframe tbody tr th {\n",
       "        vertical-align: top;\n",
       "    }\n",
       "\n",
       "    .dataframe thead th {\n",
       "        text-align: right;\n",
       "    }\n",
       "</style>\n",
       "<table border=\"1\" class=\"dataframe\">\n",
       "  <thead>\n",
       "    <tr style=\"text-align: right;\">\n",
       "      <th></th>\n",
       "      <th>A</th>\n",
       "      <th>B</th>\n",
       "      <th>C</th>\n",
       "      <th>D</th>\n",
       "    </tr>\n",
       "  </thead>\n",
       "  <tbody>\n",
       "    <tr>\n",
       "      <th>0</th>\n",
       "      <td>A0</td>\n",
       "      <td>B0</td>\n",
       "      <td>C0</td>\n",
       "      <td>D0</td>\n",
       "    </tr>\n",
       "    <tr>\n",
       "      <th>1</th>\n",
       "      <td>A1</td>\n",
       "      <td>B1</td>\n",
       "      <td>C1</td>\n",
       "      <td>D1</td>\n",
       "    </tr>\n",
       "    <tr>\n",
       "      <th>2</th>\n",
       "      <td>A2</td>\n",
       "      <td>B2</td>\n",
       "      <td>C2</td>\n",
       "      <td>D2</td>\n",
       "    </tr>\n",
       "    <tr>\n",
       "      <th>3</th>\n",
       "      <td>A3</td>\n",
       "      <td>B3</td>\n",
       "      <td>C3</td>\n",
       "      <td>D3</td>\n",
       "    </tr>\n",
       "    <tr>\n",
       "      <th>4</th>\n",
       "      <td>A4</td>\n",
       "      <td>B4</td>\n",
       "      <td>C4</td>\n",
       "      <td>D4</td>\n",
       "    </tr>\n",
       "    <tr>\n",
       "      <th>5</th>\n",
       "      <td>A5</td>\n",
       "      <td>B5</td>\n",
       "      <td>C5</td>\n",
       "      <td>D5</td>\n",
       "    </tr>\n",
       "    <tr>\n",
       "      <th>6</th>\n",
       "      <td>A6</td>\n",
       "      <td>B6</td>\n",
       "      <td>C6</td>\n",
       "      <td>D6</td>\n",
       "    </tr>\n",
       "    <tr>\n",
       "      <th>7</th>\n",
       "      <td>A7</td>\n",
       "      <td>B7</td>\n",
       "      <td>C7</td>\n",
       "      <td>D7</td>\n",
       "    </tr>\n",
       "  </tbody>\n",
       "</table>\n",
       "</div>"
      ],
      "text/plain": [
       "    A   B   C   D\n",
       "0  A0  B0  C0  D0\n",
       "1  A1  B1  C1  D1\n",
       "2  A2  B2  C2  D2\n",
       "3  A3  B3  C3  D3\n",
       "4  A4  B4  C4  D4\n",
       "5  A5  B5  C5  D5\n",
       "6  A6  B6  C6  D6\n",
       "7  A7  B7  C7  D7"
      ]
     },
     "execution_count": 38,
     "metadata": {},
     "output_type": "execute_result"
    }
   ],
   "source": [
    "df1 = pd.DataFrame({'A': ['A0', 'A1', 'A2', 'A3'],\n",
    "'B': ['B0', 'B1', 'B2', 'B3'],\n",
    "'C': ['C0', 'C1', 'C2', 'C3'],\n",
    "'D': ['D0', 'D1', 'D2', 'D3']},\n",
    "index=[0, 1, 2, 3])\n",
    "\n",
    "df2 = pd.DataFrame({'A': ['A4', 'A5', 'A6', 'A7'],\n",
    "'B': ['B4', 'B5', 'B6', 'B7'],\n",
    "'C': ['C4', 'C5', 'C6', 'C7'],\n",
    "'D': ['D4', 'D5', 'D6', 'D7']},\n",
    "index=[4, 5, 6, 7])\n",
    "\n",
    "frames = [df1, df2]\n",
    "result = pd.concat(frames)\n",
    "result"
   ]
  },
  {
   "cell_type": "code",
   "execution_count": 39,
   "metadata": {},
   "outputs": [
    {
     "data": {
      "text/html": [
       "<div>\n",
       "<style scoped>\n",
       "    .dataframe tbody tr th:only-of-type {\n",
       "        vertical-align: middle;\n",
       "    }\n",
       "\n",
       "    .dataframe tbody tr th {\n",
       "        vertical-align: top;\n",
       "    }\n",
       "\n",
       "    .dataframe thead th {\n",
       "        text-align: right;\n",
       "    }\n",
       "</style>\n",
       "<table border=\"1\" class=\"dataframe\">\n",
       "  <thead>\n",
       "    <tr style=\"text-align: right;\">\n",
       "      <th></th>\n",
       "      <th></th>\n",
       "      <th>A</th>\n",
       "      <th>B</th>\n",
       "      <th>C</th>\n",
       "      <th>D</th>\n",
       "    </tr>\n",
       "  </thead>\n",
       "  <tbody>\n",
       "    <tr>\n",
       "      <th rowspan=\"4\" valign=\"top\">x</th>\n",
       "      <th>0</th>\n",
       "      <td>A0</td>\n",
       "      <td>B0</td>\n",
       "      <td>C0</td>\n",
       "      <td>D0</td>\n",
       "    </tr>\n",
       "    <tr>\n",
       "      <th>1</th>\n",
       "      <td>A1</td>\n",
       "      <td>B1</td>\n",
       "      <td>C1</td>\n",
       "      <td>D1</td>\n",
       "    </tr>\n",
       "    <tr>\n",
       "      <th>2</th>\n",
       "      <td>A2</td>\n",
       "      <td>B2</td>\n",
       "      <td>C2</td>\n",
       "      <td>D2</td>\n",
       "    </tr>\n",
       "    <tr>\n",
       "      <th>3</th>\n",
       "      <td>A3</td>\n",
       "      <td>B3</td>\n",
       "      <td>C3</td>\n",
       "      <td>D3</td>\n",
       "    </tr>\n",
       "    <tr>\n",
       "      <th rowspan=\"4\" valign=\"top\">y</th>\n",
       "      <th>4</th>\n",
       "      <td>A4</td>\n",
       "      <td>B4</td>\n",
       "      <td>C4</td>\n",
       "      <td>D4</td>\n",
       "    </tr>\n",
       "    <tr>\n",
       "      <th>5</th>\n",
       "      <td>A5</td>\n",
       "      <td>B5</td>\n",
       "      <td>C5</td>\n",
       "      <td>D5</td>\n",
       "    </tr>\n",
       "    <tr>\n",
       "      <th>6</th>\n",
       "      <td>A6</td>\n",
       "      <td>B6</td>\n",
       "      <td>C6</td>\n",
       "      <td>D6</td>\n",
       "    </tr>\n",
       "    <tr>\n",
       "      <th>7</th>\n",
       "      <td>A7</td>\n",
       "      <td>B7</td>\n",
       "      <td>C7</td>\n",
       "      <td>D7</td>\n",
       "    </tr>\n",
       "  </tbody>\n",
       "</table>\n",
       "</div>"
      ],
      "text/plain": [
       "      A   B   C   D\n",
       "x 0  A0  B0  C0  D0\n",
       "  1  A1  B1  C1  D1\n",
       "  2  A2  B2  C2  D2\n",
       "  3  A3  B3  C3  D3\n",
       "y 4  A4  B4  C4  D4\n",
       "  5  A5  B5  C5  D5\n",
       "  6  A6  B6  C6  D6\n",
       "  7  A7  B7  C7  D7"
      ]
     },
     "execution_count": 39,
     "metadata": {},
     "output_type": "execute_result"
    }
   ],
   "source": [
    "result2 = pd.concat(frames, keys=['x', 'y', 'z'])\n",
    "result2"
   ]
  },
  {
   "cell_type": "code",
   "execution_count": 41,
   "metadata": {},
   "outputs": [
    {
     "data": {
      "text/plain": [
       "0       a\n",
       "1       b\n",
       "2       c\n",
       "3    aaba\n",
       "4    baca\n",
       "5     NaN\n",
       "6    caba\n",
       "7     dog\n",
       "8     cat\n",
       "dtype: object"
      ]
     },
     "execution_count": 41,
     "metadata": {},
     "output_type": "execute_result"
    }
   ],
   "source": [
    "s = pd.Series(['A', 'B', 'C', 'Aaba', 'Baca', np.nan, 'CABA', 'dog', 'cat'])\n",
    "s.str.lower()"
   ]
  },
  {
   "cell_type": "code",
   "execution_count": 42,
   "metadata": {},
   "outputs": [
    {
     "data": {
      "text/plain": [
       "'a,b,c,d'"
      ]
     },
     "execution_count": 42,
     "metadata": {},
     "output_type": "execute_result"
    }
   ],
   "source": [
    "s = pd.Series(['a', 'b', 'c', 'd'])\n",
    "s.str.cat(sep=',')"
   ]
  },
  {
   "cell_type": "code",
   "execution_count": 43,
   "metadata": {},
   "outputs": [
    {
     "data": {
      "text/plain": [
       "'abcd'"
      ]
     },
     "execution_count": 43,
     "metadata": {},
     "output_type": "execute_result"
    }
   ],
   "source": [
    "s.str.cat()"
   ]
  },
  {
   "cell_type": "code",
   "execution_count": 47,
   "metadata": {},
   "outputs": [
    {
     "data": {
      "text/plain": [
       "0    2.0\n",
       "1    3.0\n",
       "2    NaN\n",
       "dtype: float64"
      ]
     },
     "execution_count": 47,
     "metadata": {},
     "output_type": "execute_result"
    }
   ],
   "source": [
    "s = pd.Series([1, 2, np.nan])\n",
    "s + 1"
   ]
  },
  {
   "cell_type": "code",
   "execution_count": 50,
   "metadata": {},
   "outputs": [
    {
     "data": {
      "text/plain": [
       "3.0"
      ]
     },
     "execution_count": 50,
     "metadata": {},
     "output_type": "execute_result"
    }
   ],
   "source": [
    "s.sum()"
   ]
  },
  {
   "cell_type": "code",
   "execution_count": 51,
   "metadata": {},
   "outputs": [
    {
     "data": {
      "text/plain": [
       "dtype('float64')"
      ]
     },
     "execution_count": 51,
     "metadata": {},
     "output_type": "execute_result"
    }
   ],
   "source": [
    "s.dtypes"
   ]
  },
  {
   "cell_type": "code",
   "execution_count": 52,
   "metadata": {},
   "outputs": [
    {
     "data": {
      "text/html": [
       "<style  type=\"text/css\" >\n",
       "    #T_b30ed6f0_0b43_11ea_9c9a_3065ec906c05row0_col0 {\n",
       "            color:  black;\n",
       "        }    #T_b30ed6f0_0b43_11ea_9c9a_3065ec906c05row0_col1 {\n",
       "            color:  black;\n",
       "        }    #T_b30ed6f0_0b43_11ea_9c9a_3065ec906c05row0_col2 {\n",
       "            color:  black;\n",
       "        }    #T_b30ed6f0_0b43_11ea_9c9a_3065ec906c05row0_col3 {\n",
       "            color:  red;\n",
       "        }    #T_b30ed6f0_0b43_11ea_9c9a_3065ec906c05row0_col4 {\n",
       "            color:  red;\n",
       "        }    #T_b30ed6f0_0b43_11ea_9c9a_3065ec906c05row1_col0 {\n",
       "            color:  black;\n",
       "        }    #T_b30ed6f0_0b43_11ea_9c9a_3065ec906c05row1_col1 {\n",
       "            color:  red;\n",
       "        }    #T_b30ed6f0_0b43_11ea_9c9a_3065ec906c05row1_col2 {\n",
       "            color:  red;\n",
       "        }    #T_b30ed6f0_0b43_11ea_9c9a_3065ec906c05row1_col3 {\n",
       "            color:  black;\n",
       "        }    #T_b30ed6f0_0b43_11ea_9c9a_3065ec906c05row1_col4 {\n",
       "            color:  black;\n",
       "        }    #T_b30ed6f0_0b43_11ea_9c9a_3065ec906c05row2_col0 {\n",
       "            color:  black;\n",
       "        }    #T_b30ed6f0_0b43_11ea_9c9a_3065ec906c05row2_col1 {\n",
       "            color:  red;\n",
       "        }    #T_b30ed6f0_0b43_11ea_9c9a_3065ec906c05row2_col2 {\n",
       "            color:  black;\n",
       "        }    #T_b30ed6f0_0b43_11ea_9c9a_3065ec906c05row2_col3 {\n",
       "            color:  black;\n",
       "        }    #T_b30ed6f0_0b43_11ea_9c9a_3065ec906c05row2_col4 {\n",
       "            color:  black;\n",
       "        }    #T_b30ed6f0_0b43_11ea_9c9a_3065ec906c05row3_col0 {\n",
       "            color:  black;\n",
       "        }    #T_b30ed6f0_0b43_11ea_9c9a_3065ec906c05row3_col1 {\n",
       "            color:  black;\n",
       "        }    #T_b30ed6f0_0b43_11ea_9c9a_3065ec906c05row3_col2 {\n",
       "            color:  black;\n",
       "        }    #T_b30ed6f0_0b43_11ea_9c9a_3065ec906c05row3_col3 {\n",
       "            color:  red;\n",
       "        }    #T_b30ed6f0_0b43_11ea_9c9a_3065ec906c05row3_col4 {\n",
       "            color:  black;\n",
       "        }    #T_b30ed6f0_0b43_11ea_9c9a_3065ec906c05row4_col0 {\n",
       "            color:  black;\n",
       "        }    #T_b30ed6f0_0b43_11ea_9c9a_3065ec906c05row4_col1 {\n",
       "            color:  black;\n",
       "        }    #T_b30ed6f0_0b43_11ea_9c9a_3065ec906c05row4_col2 {\n",
       "            color:  black;\n",
       "        }    #T_b30ed6f0_0b43_11ea_9c9a_3065ec906c05row4_col3 {\n",
       "            color:  black;\n",
       "        }    #T_b30ed6f0_0b43_11ea_9c9a_3065ec906c05row4_col4 {\n",
       "            color:  black;\n",
       "        }    #T_b30ed6f0_0b43_11ea_9c9a_3065ec906c05row5_col0 {\n",
       "            color:  black;\n",
       "        }    #T_b30ed6f0_0b43_11ea_9c9a_3065ec906c05row5_col1 {\n",
       "            color:  red;\n",
       "        }    #T_b30ed6f0_0b43_11ea_9c9a_3065ec906c05row5_col2 {\n",
       "            color:  black;\n",
       "        }    #T_b30ed6f0_0b43_11ea_9c9a_3065ec906c05row5_col3 {\n",
       "            color:  black;\n",
       "        }    #T_b30ed6f0_0b43_11ea_9c9a_3065ec906c05row5_col4 {\n",
       "            color:  red;\n",
       "        }    #T_b30ed6f0_0b43_11ea_9c9a_3065ec906c05row6_col0 {\n",
       "            color:  black;\n",
       "        }    #T_b30ed6f0_0b43_11ea_9c9a_3065ec906c05row6_col1 {\n",
       "            color:  black;\n",
       "        }    #T_b30ed6f0_0b43_11ea_9c9a_3065ec906c05row6_col2 {\n",
       "            color:  black;\n",
       "        }    #T_b30ed6f0_0b43_11ea_9c9a_3065ec906c05row6_col3 {\n",
       "            color:  red;\n",
       "        }    #T_b30ed6f0_0b43_11ea_9c9a_3065ec906c05row6_col4 {\n",
       "            color:  black;\n",
       "        }    #T_b30ed6f0_0b43_11ea_9c9a_3065ec906c05row7_col0 {\n",
       "            color:  black;\n",
       "        }    #T_b30ed6f0_0b43_11ea_9c9a_3065ec906c05row7_col1 {\n",
       "            color:  black;\n",
       "        }    #T_b30ed6f0_0b43_11ea_9c9a_3065ec906c05row7_col2 {\n",
       "            color:  black;\n",
       "        }    #T_b30ed6f0_0b43_11ea_9c9a_3065ec906c05row7_col3 {\n",
       "            color:  red;\n",
       "        }    #T_b30ed6f0_0b43_11ea_9c9a_3065ec906c05row7_col4 {\n",
       "            color:  black;\n",
       "        }    #T_b30ed6f0_0b43_11ea_9c9a_3065ec906c05row8_col0 {\n",
       "            color:  black;\n",
       "        }    #T_b30ed6f0_0b43_11ea_9c9a_3065ec906c05row8_col1 {\n",
       "            color:  black;\n",
       "        }    #T_b30ed6f0_0b43_11ea_9c9a_3065ec906c05row8_col2 {\n",
       "            color:  red;\n",
       "        }    #T_b30ed6f0_0b43_11ea_9c9a_3065ec906c05row8_col3 {\n",
       "            color:  black;\n",
       "        }    #T_b30ed6f0_0b43_11ea_9c9a_3065ec906c05row8_col4 {\n",
       "            color:  red;\n",
       "        }    #T_b30ed6f0_0b43_11ea_9c9a_3065ec906c05row9_col0 {\n",
       "            color:  black;\n",
       "        }    #T_b30ed6f0_0b43_11ea_9c9a_3065ec906c05row9_col1 {\n",
       "            color:  red;\n",
       "        }    #T_b30ed6f0_0b43_11ea_9c9a_3065ec906c05row9_col2 {\n",
       "            color:  black;\n",
       "        }    #T_b30ed6f0_0b43_11ea_9c9a_3065ec906c05row9_col3 {\n",
       "            color:  red;\n",
       "        }    #T_b30ed6f0_0b43_11ea_9c9a_3065ec906c05row9_col4 {\n",
       "            color:  black;\n",
       "        }</style>  \n",
       "<table id=\"T_b30ed6f0_0b43_11ea_9c9a_3065ec906c05\" > \n",
       "<thead>    <tr> \n",
       "        <th class=\"blank level0\" ></th> \n",
       "        <th class=\"col_heading level0 col0\" >A</th> \n",
       "        <th class=\"col_heading level0 col1\" >B</th> \n",
       "        <th class=\"col_heading level0 col2\" >C</th> \n",
       "        <th class=\"col_heading level0 col3\" >D</th> \n",
       "        <th class=\"col_heading level0 col4\" >E</th> \n",
       "    </tr></thead> \n",
       "<tbody>    <tr> \n",
       "        <th id=\"T_b30ed6f0_0b43_11ea_9c9a_3065ec906c05level0_row0\" class=\"row_heading level0 row0\" >0</th> \n",
       "        <td id=\"T_b30ed6f0_0b43_11ea_9c9a_3065ec906c05row0_col0\" class=\"data row0 col0\" >1</td> \n",
       "        <td id=\"T_b30ed6f0_0b43_11ea_9c9a_3065ec906c05row0_col1\" class=\"data row0 col1\" >1.32921</td> \n",
       "        <td id=\"T_b30ed6f0_0b43_11ea_9c9a_3065ec906c05row0_col2\" class=\"data row0 col2\" >nan</td> \n",
       "        <td id=\"T_b30ed6f0_0b43_11ea_9c9a_3065ec906c05row0_col3\" class=\"data row0 col3\" >-0.31628</td> \n",
       "        <td id=\"T_b30ed6f0_0b43_11ea_9c9a_3065ec906c05row0_col4\" class=\"data row0 col4\" >-0.99081</td> \n",
       "    </tr>    <tr> \n",
       "        <th id=\"T_b30ed6f0_0b43_11ea_9c9a_3065ec906c05level0_row1\" class=\"row_heading level0 row1\" >1</th> \n",
       "        <td id=\"T_b30ed6f0_0b43_11ea_9c9a_3065ec906c05row1_col0\" class=\"data row1 col0\" >2</td> \n",
       "        <td id=\"T_b30ed6f0_0b43_11ea_9c9a_3065ec906c05row1_col1\" class=\"data row1 col1\" >-1.07082</td> \n",
       "        <td id=\"T_b30ed6f0_0b43_11ea_9c9a_3065ec906c05row1_col2\" class=\"data row1 col2\" >-1.43871</td> \n",
       "        <td id=\"T_b30ed6f0_0b43_11ea_9c9a_3065ec906c05row1_col3\" class=\"data row1 col3\" >0.564417</td> \n",
       "        <td id=\"T_b30ed6f0_0b43_11ea_9c9a_3065ec906c05row1_col4\" class=\"data row1 col4\" >0.295722</td> \n",
       "    </tr>    <tr> \n",
       "        <th id=\"T_b30ed6f0_0b43_11ea_9c9a_3065ec906c05level0_row2\" class=\"row_heading level0 row2\" >2</th> \n",
       "        <td id=\"T_b30ed6f0_0b43_11ea_9c9a_3065ec906c05row2_col0\" class=\"data row2 col0\" >3</td> \n",
       "        <td id=\"T_b30ed6f0_0b43_11ea_9c9a_3065ec906c05row2_col1\" class=\"data row2 col1\" >-1.6264</td> \n",
       "        <td id=\"T_b30ed6f0_0b43_11ea_9c9a_3065ec906c05row2_col2\" class=\"data row2 col2\" >0.219565</td> \n",
       "        <td id=\"T_b30ed6f0_0b43_11ea_9c9a_3065ec906c05row2_col3\" class=\"data row2 col3\" >0.678805</td> \n",
       "        <td id=\"T_b30ed6f0_0b43_11ea_9c9a_3065ec906c05row2_col4\" class=\"data row2 col4\" >1.88927</td> \n",
       "    </tr>    <tr> \n",
       "        <th id=\"T_b30ed6f0_0b43_11ea_9c9a_3065ec906c05level0_row3\" class=\"row_heading level0 row3\" >3</th> \n",
       "        <td id=\"T_b30ed6f0_0b43_11ea_9c9a_3065ec906c05row3_col0\" class=\"data row3 col0\" >4</td> \n",
       "        <td id=\"T_b30ed6f0_0b43_11ea_9c9a_3065ec906c05row3_col1\" class=\"data row3 col1\" >0.961538</td> \n",
       "        <td id=\"T_b30ed6f0_0b43_11ea_9c9a_3065ec906c05row3_col2\" class=\"data row3 col2\" >0.104011</td> \n",
       "        <td id=\"T_b30ed6f0_0b43_11ea_9c9a_3065ec906c05row3_col3\" class=\"data row3 col3\" >-0.481165</td> \n",
       "        <td id=\"T_b30ed6f0_0b43_11ea_9c9a_3065ec906c05row3_col4\" class=\"data row3 col4\" >0.850229</td> \n",
       "    </tr>    <tr> \n",
       "        <th id=\"T_b30ed6f0_0b43_11ea_9c9a_3065ec906c05level0_row4\" class=\"row_heading level0 row4\" >4</th> \n",
       "        <td id=\"T_b30ed6f0_0b43_11ea_9c9a_3065ec906c05row4_col0\" class=\"data row4 col0\" >5</td> \n",
       "        <td id=\"T_b30ed6f0_0b43_11ea_9c9a_3065ec906c05row4_col1\" class=\"data row4 col1\" >1.45342</td> \n",
       "        <td id=\"T_b30ed6f0_0b43_11ea_9c9a_3065ec906c05row4_col2\" class=\"data row4 col2\" >1.05774</td> \n",
       "        <td id=\"T_b30ed6f0_0b43_11ea_9c9a_3065ec906c05row4_col3\" class=\"data row4 col3\" >0.165562</td> \n",
       "        <td id=\"T_b30ed6f0_0b43_11ea_9c9a_3065ec906c05row4_col4\" class=\"data row4 col4\" >0.515018</td> \n",
       "    </tr>    <tr> \n",
       "        <th id=\"T_b30ed6f0_0b43_11ea_9c9a_3065ec906c05level0_row5\" class=\"row_heading level0 row5\" >5</th> \n",
       "        <td id=\"T_b30ed6f0_0b43_11ea_9c9a_3065ec906c05row5_col0\" class=\"data row5 col0\" >6</td> \n",
       "        <td id=\"T_b30ed6f0_0b43_11ea_9c9a_3065ec906c05row5_col1\" class=\"data row5 col1\" >-1.33694</td> \n",
       "        <td id=\"T_b30ed6f0_0b43_11ea_9c9a_3065ec906c05row5_col2\" class=\"data row5 col2\" >0.562861</td> \n",
       "        <td id=\"T_b30ed6f0_0b43_11ea_9c9a_3065ec906c05row5_col3\" class=\"data row5 col3\" >1.39285</td> \n",
       "        <td id=\"T_b30ed6f0_0b43_11ea_9c9a_3065ec906c05row5_col4\" class=\"data row5 col4\" >-0.063328</td> \n",
       "    </tr>    <tr> \n",
       "        <th id=\"T_b30ed6f0_0b43_11ea_9c9a_3065ec906c05level0_row6\" class=\"row_heading level0 row6\" >6</th> \n",
       "        <td id=\"T_b30ed6f0_0b43_11ea_9c9a_3065ec906c05row6_col0\" class=\"data row6 col0\" >7</td> \n",
       "        <td id=\"T_b30ed6f0_0b43_11ea_9c9a_3065ec906c05row6_col1\" class=\"data row6 col1\" >0.121668</td> \n",
       "        <td id=\"T_b30ed6f0_0b43_11ea_9c9a_3065ec906c05row6_col2\" class=\"data row6 col2\" >1.2076</td> \n",
       "        <td id=\"T_b30ed6f0_0b43_11ea_9c9a_3065ec906c05row6_col3\" class=\"data row6 col3\" >-0.00204021</td> \n",
       "        <td id=\"T_b30ed6f0_0b43_11ea_9c9a_3065ec906c05row6_col4\" class=\"data row6 col4\" >1.6278</td> \n",
       "    </tr>    <tr> \n",
       "        <th id=\"T_b30ed6f0_0b43_11ea_9c9a_3065ec906c05level0_row7\" class=\"row_heading level0 row7\" >7</th> \n",
       "        <td id=\"T_b30ed6f0_0b43_11ea_9c9a_3065ec906c05row7_col0\" class=\"data row7 col0\" >8</td> \n",
       "        <td id=\"T_b30ed6f0_0b43_11ea_9c9a_3065ec906c05row7_col1\" class=\"data row7 col1\" >0.354493</td> \n",
       "        <td id=\"T_b30ed6f0_0b43_11ea_9c9a_3065ec906c05row7_col2\" class=\"data row7 col2\" >1.03753</td> \n",
       "        <td id=\"T_b30ed6f0_0b43_11ea_9c9a_3065ec906c05row7_col3\" class=\"data row7 col3\" >-0.385684</td> \n",
       "        <td id=\"T_b30ed6f0_0b43_11ea_9c9a_3065ec906c05row7_col4\" class=\"data row7 col4\" >0.519818</td> \n",
       "    </tr>    <tr> \n",
       "        <th id=\"T_b30ed6f0_0b43_11ea_9c9a_3065ec906c05level0_row8\" class=\"row_heading level0 row8\" >8</th> \n",
       "        <td id=\"T_b30ed6f0_0b43_11ea_9c9a_3065ec906c05row8_col0\" class=\"data row8 col0\" >9</td> \n",
       "        <td id=\"T_b30ed6f0_0b43_11ea_9c9a_3065ec906c05row8_col1\" class=\"data row8 col1\" >1.68658</td> \n",
       "        <td id=\"T_b30ed6f0_0b43_11ea_9c9a_3065ec906c05row8_col2\" class=\"data row8 col2\" >-1.32596</td> \n",
       "        <td id=\"T_b30ed6f0_0b43_11ea_9c9a_3065ec906c05row8_col3\" class=\"data row8 col3\" >1.42898</td> \n",
       "        <td id=\"T_b30ed6f0_0b43_11ea_9c9a_3065ec906c05row8_col4\" class=\"data row8 col4\" >-2.08935</td> \n",
       "    </tr>    <tr> \n",
       "        <th id=\"T_b30ed6f0_0b43_11ea_9c9a_3065ec906c05level0_row9\" class=\"row_heading level0 row9\" >9</th> \n",
       "        <td id=\"T_b30ed6f0_0b43_11ea_9c9a_3065ec906c05row9_col0\" class=\"data row9 col0\" >10</td> \n",
       "        <td id=\"T_b30ed6f0_0b43_11ea_9c9a_3065ec906c05row9_col1\" class=\"data row9 col1\" >-0.12982</td> \n",
       "        <td id=\"T_b30ed6f0_0b43_11ea_9c9a_3065ec906c05row9_col2\" class=\"data row9 col2\" >0.631523</td> \n",
       "        <td id=\"T_b30ed6f0_0b43_11ea_9c9a_3065ec906c05row9_col3\" class=\"data row9 col3\" >-0.586538</td> \n",
       "        <td id=\"T_b30ed6f0_0b43_11ea_9c9a_3065ec906c05row9_col4\" class=\"data row9 col4\" >0.29072</td> \n",
       "    </tr></tbody> \n",
       "</table> "
      ],
      "text/plain": [
       "<pandas.io.formats.style.Styler at 0xbac27f0>"
      ]
     },
     "execution_count": 52,
     "metadata": {},
     "output_type": "execute_result"
    }
   ],
   "source": [
    "np.random.seed(24)\n",
    "df = pd.DataFrame({'A': np.linspace(1, 10, 10)})\n",
    "df = pd.concat([df, pd.DataFrame(np.random.randn(10, 4), columns=list('BCDE'))],\n",
    "               axis=1)\n",
    "df.iloc[0, 2] = np.nan\n",
    "\n",
    "def color_negative_red(val):\n",
    "    \"\"\"\n",
    "    Takes a scalar and returns a string with\n",
    "    the css property `'color: red'` for negative\n",
    "    strings, black otherwise.\n",
    "    \"\"\"\n",
    "    color = 'red' if val < 0 else 'black'\n",
    "    return 'color: %s' % color\n",
    "\n",
    "s = df.style.applymap(color_negative_red)\n",
    "s"
   ]
  },
  {
   "cell_type": "code",
   "execution_count": 53,
   "metadata": {},
   "outputs": [
    {
     "data": {
      "text/html": [
       "<style  type=\"text/css\" >\n",
       "    #T_ba326280_0b43_11ea_ac93_3065ec906c05row2_col4 {\n",
       "            background-color:  yellow;\n",
       "        }    #T_ba326280_0b43_11ea_ac93_3065ec906c05row6_col2 {\n",
       "            background-color:  yellow;\n",
       "        }    #T_ba326280_0b43_11ea_ac93_3065ec906c05row8_col1 {\n",
       "            background-color:  yellow;\n",
       "        }    #T_ba326280_0b43_11ea_ac93_3065ec906c05row8_col3 {\n",
       "            background-color:  yellow;\n",
       "        }    #T_ba326280_0b43_11ea_ac93_3065ec906c05row9_col0 {\n",
       "            background-color:  yellow;\n",
       "        }</style>  \n",
       "<table id=\"T_ba326280_0b43_11ea_ac93_3065ec906c05\" > \n",
       "<thead>    <tr> \n",
       "        <th class=\"blank level0\" ></th> \n",
       "        <th class=\"col_heading level0 col0\" >A</th> \n",
       "        <th class=\"col_heading level0 col1\" >B</th> \n",
       "        <th class=\"col_heading level0 col2\" >C</th> \n",
       "        <th class=\"col_heading level0 col3\" >D</th> \n",
       "        <th class=\"col_heading level0 col4\" >E</th> \n",
       "    </tr></thead> \n",
       "<tbody>    <tr> \n",
       "        <th id=\"T_ba326280_0b43_11ea_ac93_3065ec906c05level0_row0\" class=\"row_heading level0 row0\" >0</th> \n",
       "        <td id=\"T_ba326280_0b43_11ea_ac93_3065ec906c05row0_col0\" class=\"data row0 col0\" >1</td> \n",
       "        <td id=\"T_ba326280_0b43_11ea_ac93_3065ec906c05row0_col1\" class=\"data row0 col1\" >1.32921</td> \n",
       "        <td id=\"T_ba326280_0b43_11ea_ac93_3065ec906c05row0_col2\" class=\"data row0 col2\" >nan</td> \n",
       "        <td id=\"T_ba326280_0b43_11ea_ac93_3065ec906c05row0_col3\" class=\"data row0 col3\" >-0.31628</td> \n",
       "        <td id=\"T_ba326280_0b43_11ea_ac93_3065ec906c05row0_col4\" class=\"data row0 col4\" >-0.99081</td> \n",
       "    </tr>    <tr> \n",
       "        <th id=\"T_ba326280_0b43_11ea_ac93_3065ec906c05level0_row1\" class=\"row_heading level0 row1\" >1</th> \n",
       "        <td id=\"T_ba326280_0b43_11ea_ac93_3065ec906c05row1_col0\" class=\"data row1 col0\" >2</td> \n",
       "        <td id=\"T_ba326280_0b43_11ea_ac93_3065ec906c05row1_col1\" class=\"data row1 col1\" >-1.07082</td> \n",
       "        <td id=\"T_ba326280_0b43_11ea_ac93_3065ec906c05row1_col2\" class=\"data row1 col2\" >-1.43871</td> \n",
       "        <td id=\"T_ba326280_0b43_11ea_ac93_3065ec906c05row1_col3\" class=\"data row1 col3\" >0.564417</td> \n",
       "        <td id=\"T_ba326280_0b43_11ea_ac93_3065ec906c05row1_col4\" class=\"data row1 col4\" >0.295722</td> \n",
       "    </tr>    <tr> \n",
       "        <th id=\"T_ba326280_0b43_11ea_ac93_3065ec906c05level0_row2\" class=\"row_heading level0 row2\" >2</th> \n",
       "        <td id=\"T_ba326280_0b43_11ea_ac93_3065ec906c05row2_col0\" class=\"data row2 col0\" >3</td> \n",
       "        <td id=\"T_ba326280_0b43_11ea_ac93_3065ec906c05row2_col1\" class=\"data row2 col1\" >-1.6264</td> \n",
       "        <td id=\"T_ba326280_0b43_11ea_ac93_3065ec906c05row2_col2\" class=\"data row2 col2\" >0.219565</td> \n",
       "        <td id=\"T_ba326280_0b43_11ea_ac93_3065ec906c05row2_col3\" class=\"data row2 col3\" >0.678805</td> \n",
       "        <td id=\"T_ba326280_0b43_11ea_ac93_3065ec906c05row2_col4\" class=\"data row2 col4\" >1.88927</td> \n",
       "    </tr>    <tr> \n",
       "        <th id=\"T_ba326280_0b43_11ea_ac93_3065ec906c05level0_row3\" class=\"row_heading level0 row3\" >3</th> \n",
       "        <td id=\"T_ba326280_0b43_11ea_ac93_3065ec906c05row3_col0\" class=\"data row3 col0\" >4</td> \n",
       "        <td id=\"T_ba326280_0b43_11ea_ac93_3065ec906c05row3_col1\" class=\"data row3 col1\" >0.961538</td> \n",
       "        <td id=\"T_ba326280_0b43_11ea_ac93_3065ec906c05row3_col2\" class=\"data row3 col2\" >0.104011</td> \n",
       "        <td id=\"T_ba326280_0b43_11ea_ac93_3065ec906c05row3_col3\" class=\"data row3 col3\" >-0.481165</td> \n",
       "        <td id=\"T_ba326280_0b43_11ea_ac93_3065ec906c05row3_col4\" class=\"data row3 col4\" >0.850229</td> \n",
       "    </tr>    <tr> \n",
       "        <th id=\"T_ba326280_0b43_11ea_ac93_3065ec906c05level0_row4\" class=\"row_heading level0 row4\" >4</th> \n",
       "        <td id=\"T_ba326280_0b43_11ea_ac93_3065ec906c05row4_col0\" class=\"data row4 col0\" >5</td> \n",
       "        <td id=\"T_ba326280_0b43_11ea_ac93_3065ec906c05row4_col1\" class=\"data row4 col1\" >1.45342</td> \n",
       "        <td id=\"T_ba326280_0b43_11ea_ac93_3065ec906c05row4_col2\" class=\"data row4 col2\" >1.05774</td> \n",
       "        <td id=\"T_ba326280_0b43_11ea_ac93_3065ec906c05row4_col3\" class=\"data row4 col3\" >0.165562</td> \n",
       "        <td id=\"T_ba326280_0b43_11ea_ac93_3065ec906c05row4_col4\" class=\"data row4 col4\" >0.515018</td> \n",
       "    </tr>    <tr> \n",
       "        <th id=\"T_ba326280_0b43_11ea_ac93_3065ec906c05level0_row5\" class=\"row_heading level0 row5\" >5</th> \n",
       "        <td id=\"T_ba326280_0b43_11ea_ac93_3065ec906c05row5_col0\" class=\"data row5 col0\" >6</td> \n",
       "        <td id=\"T_ba326280_0b43_11ea_ac93_3065ec906c05row5_col1\" class=\"data row5 col1\" >-1.33694</td> \n",
       "        <td id=\"T_ba326280_0b43_11ea_ac93_3065ec906c05row5_col2\" class=\"data row5 col2\" >0.562861</td> \n",
       "        <td id=\"T_ba326280_0b43_11ea_ac93_3065ec906c05row5_col3\" class=\"data row5 col3\" >1.39285</td> \n",
       "        <td id=\"T_ba326280_0b43_11ea_ac93_3065ec906c05row5_col4\" class=\"data row5 col4\" >-0.063328</td> \n",
       "    </tr>    <tr> \n",
       "        <th id=\"T_ba326280_0b43_11ea_ac93_3065ec906c05level0_row6\" class=\"row_heading level0 row6\" >6</th> \n",
       "        <td id=\"T_ba326280_0b43_11ea_ac93_3065ec906c05row6_col0\" class=\"data row6 col0\" >7</td> \n",
       "        <td id=\"T_ba326280_0b43_11ea_ac93_3065ec906c05row6_col1\" class=\"data row6 col1\" >0.121668</td> \n",
       "        <td id=\"T_ba326280_0b43_11ea_ac93_3065ec906c05row6_col2\" class=\"data row6 col2\" >1.2076</td> \n",
       "        <td id=\"T_ba326280_0b43_11ea_ac93_3065ec906c05row6_col3\" class=\"data row6 col3\" >-0.00204021</td> \n",
       "        <td id=\"T_ba326280_0b43_11ea_ac93_3065ec906c05row6_col4\" class=\"data row6 col4\" >1.6278</td> \n",
       "    </tr>    <tr> \n",
       "        <th id=\"T_ba326280_0b43_11ea_ac93_3065ec906c05level0_row7\" class=\"row_heading level0 row7\" >7</th> \n",
       "        <td id=\"T_ba326280_0b43_11ea_ac93_3065ec906c05row7_col0\" class=\"data row7 col0\" >8</td> \n",
       "        <td id=\"T_ba326280_0b43_11ea_ac93_3065ec906c05row7_col1\" class=\"data row7 col1\" >0.354493</td> \n",
       "        <td id=\"T_ba326280_0b43_11ea_ac93_3065ec906c05row7_col2\" class=\"data row7 col2\" >1.03753</td> \n",
       "        <td id=\"T_ba326280_0b43_11ea_ac93_3065ec906c05row7_col3\" class=\"data row7 col3\" >-0.385684</td> \n",
       "        <td id=\"T_ba326280_0b43_11ea_ac93_3065ec906c05row7_col4\" class=\"data row7 col4\" >0.519818</td> \n",
       "    </tr>    <tr> \n",
       "        <th id=\"T_ba326280_0b43_11ea_ac93_3065ec906c05level0_row8\" class=\"row_heading level0 row8\" >8</th> \n",
       "        <td id=\"T_ba326280_0b43_11ea_ac93_3065ec906c05row8_col0\" class=\"data row8 col0\" >9</td> \n",
       "        <td id=\"T_ba326280_0b43_11ea_ac93_3065ec906c05row8_col1\" class=\"data row8 col1\" >1.68658</td> \n",
       "        <td id=\"T_ba326280_0b43_11ea_ac93_3065ec906c05row8_col2\" class=\"data row8 col2\" >-1.32596</td> \n",
       "        <td id=\"T_ba326280_0b43_11ea_ac93_3065ec906c05row8_col3\" class=\"data row8 col3\" >1.42898</td> \n",
       "        <td id=\"T_ba326280_0b43_11ea_ac93_3065ec906c05row8_col4\" class=\"data row8 col4\" >-2.08935</td> \n",
       "    </tr>    <tr> \n",
       "        <th id=\"T_ba326280_0b43_11ea_ac93_3065ec906c05level0_row9\" class=\"row_heading level0 row9\" >9</th> \n",
       "        <td id=\"T_ba326280_0b43_11ea_ac93_3065ec906c05row9_col0\" class=\"data row9 col0\" >10</td> \n",
       "        <td id=\"T_ba326280_0b43_11ea_ac93_3065ec906c05row9_col1\" class=\"data row9 col1\" >-0.12982</td> \n",
       "        <td id=\"T_ba326280_0b43_11ea_ac93_3065ec906c05row9_col2\" class=\"data row9 col2\" >0.631523</td> \n",
       "        <td id=\"T_ba326280_0b43_11ea_ac93_3065ec906c05row9_col3\" class=\"data row9 col3\" >-0.586538</td> \n",
       "        <td id=\"T_ba326280_0b43_11ea_ac93_3065ec906c05row9_col4\" class=\"data row9 col4\" >0.29072</td> \n",
       "    </tr></tbody> \n",
       "</table> "
      ],
      "text/plain": [
       "<pandas.io.formats.style.Styler at 0xbabdb00>"
      ]
     },
     "execution_count": 53,
     "metadata": {},
     "output_type": "execute_result"
    }
   ],
   "source": [
    "def highlight_max(s):\n",
    "    '''\n",
    "    highlight the maximum in a Series yellow.\n",
    "    '''\n",
    "    is_max = s == s.max()\n",
    "    return ['background-color: yellow' if v else '' for v in is_max]\n",
    "\n",
    "df.style.apply(highlight_max)"
   ]
  },
  {
   "cell_type": "code",
   "execution_count": 54,
   "metadata": {},
   "outputs": [
    {
     "data": {
      "text/html": [
       "<style  type=\"text/css\" >\n",
       "    #T_bfe287f0_0b43_11ea_b52a_3065ec906c05row0_col0 {\n",
       "            color:  black;\n",
       "            : ;\n",
       "        }    #T_bfe287f0_0b43_11ea_b52a_3065ec906c05row0_col1 {\n",
       "            color:  black;\n",
       "            : ;\n",
       "        }    #T_bfe287f0_0b43_11ea_b52a_3065ec906c05row0_col2 {\n",
       "            color:  black;\n",
       "            : ;\n",
       "        }    #T_bfe287f0_0b43_11ea_b52a_3065ec906c05row0_col3 {\n",
       "            color:  red;\n",
       "            : ;\n",
       "        }    #T_bfe287f0_0b43_11ea_b52a_3065ec906c05row0_col4 {\n",
       "            color:  red;\n",
       "            : ;\n",
       "        }    #T_bfe287f0_0b43_11ea_b52a_3065ec906c05row1_col0 {\n",
       "            color:  black;\n",
       "            : ;\n",
       "        }    #T_bfe287f0_0b43_11ea_b52a_3065ec906c05row1_col1 {\n",
       "            color:  red;\n",
       "            : ;\n",
       "        }    #T_bfe287f0_0b43_11ea_b52a_3065ec906c05row1_col2 {\n",
       "            color:  red;\n",
       "            : ;\n",
       "        }    #T_bfe287f0_0b43_11ea_b52a_3065ec906c05row1_col3 {\n",
       "            color:  black;\n",
       "            : ;\n",
       "        }    #T_bfe287f0_0b43_11ea_b52a_3065ec906c05row1_col4 {\n",
       "            color:  black;\n",
       "            : ;\n",
       "        }    #T_bfe287f0_0b43_11ea_b52a_3065ec906c05row2_col0 {\n",
       "            color:  black;\n",
       "            : ;\n",
       "        }    #T_bfe287f0_0b43_11ea_b52a_3065ec906c05row2_col1 {\n",
       "            color:  red;\n",
       "            : ;\n",
       "        }    #T_bfe287f0_0b43_11ea_b52a_3065ec906c05row2_col2 {\n",
       "            color:  black;\n",
       "            : ;\n",
       "        }    #T_bfe287f0_0b43_11ea_b52a_3065ec906c05row2_col3 {\n",
       "            color:  black;\n",
       "            : ;\n",
       "        }    #T_bfe287f0_0b43_11ea_b52a_3065ec906c05row2_col4 {\n",
       "            color:  black;\n",
       "            background-color:  yellow;\n",
       "        }    #T_bfe287f0_0b43_11ea_b52a_3065ec906c05row3_col0 {\n",
       "            color:  black;\n",
       "            : ;\n",
       "        }    #T_bfe287f0_0b43_11ea_b52a_3065ec906c05row3_col1 {\n",
       "            color:  black;\n",
       "            : ;\n",
       "        }    #T_bfe287f0_0b43_11ea_b52a_3065ec906c05row3_col2 {\n",
       "            color:  black;\n",
       "            : ;\n",
       "        }    #T_bfe287f0_0b43_11ea_b52a_3065ec906c05row3_col3 {\n",
       "            color:  red;\n",
       "            : ;\n",
       "        }    #T_bfe287f0_0b43_11ea_b52a_3065ec906c05row3_col4 {\n",
       "            color:  black;\n",
       "            : ;\n",
       "        }    #T_bfe287f0_0b43_11ea_b52a_3065ec906c05row4_col0 {\n",
       "            color:  black;\n",
       "            : ;\n",
       "        }    #T_bfe287f0_0b43_11ea_b52a_3065ec906c05row4_col1 {\n",
       "            color:  black;\n",
       "            : ;\n",
       "        }    #T_bfe287f0_0b43_11ea_b52a_3065ec906c05row4_col2 {\n",
       "            color:  black;\n",
       "            : ;\n",
       "        }    #T_bfe287f0_0b43_11ea_b52a_3065ec906c05row4_col3 {\n",
       "            color:  black;\n",
       "            : ;\n",
       "        }    #T_bfe287f0_0b43_11ea_b52a_3065ec906c05row4_col4 {\n",
       "            color:  black;\n",
       "            : ;\n",
       "        }    #T_bfe287f0_0b43_11ea_b52a_3065ec906c05row5_col0 {\n",
       "            color:  black;\n",
       "            : ;\n",
       "        }    #T_bfe287f0_0b43_11ea_b52a_3065ec906c05row5_col1 {\n",
       "            color:  red;\n",
       "            : ;\n",
       "        }    #T_bfe287f0_0b43_11ea_b52a_3065ec906c05row5_col2 {\n",
       "            color:  black;\n",
       "            : ;\n",
       "        }    #T_bfe287f0_0b43_11ea_b52a_3065ec906c05row5_col3 {\n",
       "            color:  black;\n",
       "            : ;\n",
       "        }    #T_bfe287f0_0b43_11ea_b52a_3065ec906c05row5_col4 {\n",
       "            color:  red;\n",
       "            : ;\n",
       "        }    #T_bfe287f0_0b43_11ea_b52a_3065ec906c05row6_col0 {\n",
       "            color:  black;\n",
       "            : ;\n",
       "        }    #T_bfe287f0_0b43_11ea_b52a_3065ec906c05row6_col1 {\n",
       "            color:  black;\n",
       "            : ;\n",
       "        }    #T_bfe287f0_0b43_11ea_b52a_3065ec906c05row6_col2 {\n",
       "            color:  black;\n",
       "            background-color:  yellow;\n",
       "        }    #T_bfe287f0_0b43_11ea_b52a_3065ec906c05row6_col3 {\n",
       "            color:  red;\n",
       "            : ;\n",
       "        }    #T_bfe287f0_0b43_11ea_b52a_3065ec906c05row6_col4 {\n",
       "            color:  black;\n",
       "            : ;\n",
       "        }    #T_bfe287f0_0b43_11ea_b52a_3065ec906c05row7_col0 {\n",
       "            color:  black;\n",
       "            : ;\n",
       "        }    #T_bfe287f0_0b43_11ea_b52a_3065ec906c05row7_col1 {\n",
       "            color:  black;\n",
       "            : ;\n",
       "        }    #T_bfe287f0_0b43_11ea_b52a_3065ec906c05row7_col2 {\n",
       "            color:  black;\n",
       "            : ;\n",
       "        }    #T_bfe287f0_0b43_11ea_b52a_3065ec906c05row7_col3 {\n",
       "            color:  red;\n",
       "            : ;\n",
       "        }    #T_bfe287f0_0b43_11ea_b52a_3065ec906c05row7_col4 {\n",
       "            color:  black;\n",
       "            : ;\n",
       "        }    #T_bfe287f0_0b43_11ea_b52a_3065ec906c05row8_col0 {\n",
       "            color:  black;\n",
       "            : ;\n",
       "        }    #T_bfe287f0_0b43_11ea_b52a_3065ec906c05row8_col1 {\n",
       "            color:  black;\n",
       "            background-color:  yellow;\n",
       "        }    #T_bfe287f0_0b43_11ea_b52a_3065ec906c05row8_col2 {\n",
       "            color:  red;\n",
       "            : ;\n",
       "        }    #T_bfe287f0_0b43_11ea_b52a_3065ec906c05row8_col3 {\n",
       "            color:  black;\n",
       "            background-color:  yellow;\n",
       "        }    #T_bfe287f0_0b43_11ea_b52a_3065ec906c05row8_col4 {\n",
       "            color:  red;\n",
       "            : ;\n",
       "        }    #T_bfe287f0_0b43_11ea_b52a_3065ec906c05row9_col0 {\n",
       "            color:  black;\n",
       "            background-color:  yellow;\n",
       "        }    #T_bfe287f0_0b43_11ea_b52a_3065ec906c05row9_col1 {\n",
       "            color:  red;\n",
       "            : ;\n",
       "        }    #T_bfe287f0_0b43_11ea_b52a_3065ec906c05row9_col2 {\n",
       "            color:  black;\n",
       "            : ;\n",
       "        }    #T_bfe287f0_0b43_11ea_b52a_3065ec906c05row9_col3 {\n",
       "            color:  red;\n",
       "            : ;\n",
       "        }    #T_bfe287f0_0b43_11ea_b52a_3065ec906c05row9_col4 {\n",
       "            color:  black;\n",
       "            : ;\n",
       "        }</style>  \n",
       "<table id=\"T_bfe287f0_0b43_11ea_b52a_3065ec906c05\" > \n",
       "<thead>    <tr> \n",
       "        <th class=\"blank level0\" ></th> \n",
       "        <th class=\"col_heading level0 col0\" >A</th> \n",
       "        <th class=\"col_heading level0 col1\" >B</th> \n",
       "        <th class=\"col_heading level0 col2\" >C</th> \n",
       "        <th class=\"col_heading level0 col3\" >D</th> \n",
       "        <th class=\"col_heading level0 col4\" >E</th> \n",
       "    </tr></thead> \n",
       "<tbody>    <tr> \n",
       "        <th id=\"T_bfe287f0_0b43_11ea_b52a_3065ec906c05level0_row0\" class=\"row_heading level0 row0\" >0</th> \n",
       "        <td id=\"T_bfe287f0_0b43_11ea_b52a_3065ec906c05row0_col0\" class=\"data row0 col0\" >1</td> \n",
       "        <td id=\"T_bfe287f0_0b43_11ea_b52a_3065ec906c05row0_col1\" class=\"data row0 col1\" >1.32921</td> \n",
       "        <td id=\"T_bfe287f0_0b43_11ea_b52a_3065ec906c05row0_col2\" class=\"data row0 col2\" >nan</td> \n",
       "        <td id=\"T_bfe287f0_0b43_11ea_b52a_3065ec906c05row0_col3\" class=\"data row0 col3\" >-0.31628</td> \n",
       "        <td id=\"T_bfe287f0_0b43_11ea_b52a_3065ec906c05row0_col4\" class=\"data row0 col4\" >-0.99081</td> \n",
       "    </tr>    <tr> \n",
       "        <th id=\"T_bfe287f0_0b43_11ea_b52a_3065ec906c05level0_row1\" class=\"row_heading level0 row1\" >1</th> \n",
       "        <td id=\"T_bfe287f0_0b43_11ea_b52a_3065ec906c05row1_col0\" class=\"data row1 col0\" >2</td> \n",
       "        <td id=\"T_bfe287f0_0b43_11ea_b52a_3065ec906c05row1_col1\" class=\"data row1 col1\" >-1.07082</td> \n",
       "        <td id=\"T_bfe287f0_0b43_11ea_b52a_3065ec906c05row1_col2\" class=\"data row1 col2\" >-1.43871</td> \n",
       "        <td id=\"T_bfe287f0_0b43_11ea_b52a_3065ec906c05row1_col3\" class=\"data row1 col3\" >0.564417</td> \n",
       "        <td id=\"T_bfe287f0_0b43_11ea_b52a_3065ec906c05row1_col4\" class=\"data row1 col4\" >0.295722</td> \n",
       "    </tr>    <tr> \n",
       "        <th id=\"T_bfe287f0_0b43_11ea_b52a_3065ec906c05level0_row2\" class=\"row_heading level0 row2\" >2</th> \n",
       "        <td id=\"T_bfe287f0_0b43_11ea_b52a_3065ec906c05row2_col0\" class=\"data row2 col0\" >3</td> \n",
       "        <td id=\"T_bfe287f0_0b43_11ea_b52a_3065ec906c05row2_col1\" class=\"data row2 col1\" >-1.6264</td> \n",
       "        <td id=\"T_bfe287f0_0b43_11ea_b52a_3065ec906c05row2_col2\" class=\"data row2 col2\" >0.219565</td> \n",
       "        <td id=\"T_bfe287f0_0b43_11ea_b52a_3065ec906c05row2_col3\" class=\"data row2 col3\" >0.678805</td> \n",
       "        <td id=\"T_bfe287f0_0b43_11ea_b52a_3065ec906c05row2_col4\" class=\"data row2 col4\" >1.88927</td> \n",
       "    </tr>    <tr> \n",
       "        <th id=\"T_bfe287f0_0b43_11ea_b52a_3065ec906c05level0_row3\" class=\"row_heading level0 row3\" >3</th> \n",
       "        <td id=\"T_bfe287f0_0b43_11ea_b52a_3065ec906c05row3_col0\" class=\"data row3 col0\" >4</td> \n",
       "        <td id=\"T_bfe287f0_0b43_11ea_b52a_3065ec906c05row3_col1\" class=\"data row3 col1\" >0.961538</td> \n",
       "        <td id=\"T_bfe287f0_0b43_11ea_b52a_3065ec906c05row3_col2\" class=\"data row3 col2\" >0.104011</td> \n",
       "        <td id=\"T_bfe287f0_0b43_11ea_b52a_3065ec906c05row3_col3\" class=\"data row3 col3\" >-0.481165</td> \n",
       "        <td id=\"T_bfe287f0_0b43_11ea_b52a_3065ec906c05row3_col4\" class=\"data row3 col4\" >0.850229</td> \n",
       "    </tr>    <tr> \n",
       "        <th id=\"T_bfe287f0_0b43_11ea_b52a_3065ec906c05level0_row4\" class=\"row_heading level0 row4\" >4</th> \n",
       "        <td id=\"T_bfe287f0_0b43_11ea_b52a_3065ec906c05row4_col0\" class=\"data row4 col0\" >5</td> \n",
       "        <td id=\"T_bfe287f0_0b43_11ea_b52a_3065ec906c05row4_col1\" class=\"data row4 col1\" >1.45342</td> \n",
       "        <td id=\"T_bfe287f0_0b43_11ea_b52a_3065ec906c05row4_col2\" class=\"data row4 col2\" >1.05774</td> \n",
       "        <td id=\"T_bfe287f0_0b43_11ea_b52a_3065ec906c05row4_col3\" class=\"data row4 col3\" >0.165562</td> \n",
       "        <td id=\"T_bfe287f0_0b43_11ea_b52a_3065ec906c05row4_col4\" class=\"data row4 col4\" >0.515018</td> \n",
       "    </tr>    <tr> \n",
       "        <th id=\"T_bfe287f0_0b43_11ea_b52a_3065ec906c05level0_row5\" class=\"row_heading level0 row5\" >5</th> \n",
       "        <td id=\"T_bfe287f0_0b43_11ea_b52a_3065ec906c05row5_col0\" class=\"data row5 col0\" >6</td> \n",
       "        <td id=\"T_bfe287f0_0b43_11ea_b52a_3065ec906c05row5_col1\" class=\"data row5 col1\" >-1.33694</td> \n",
       "        <td id=\"T_bfe287f0_0b43_11ea_b52a_3065ec906c05row5_col2\" class=\"data row5 col2\" >0.562861</td> \n",
       "        <td id=\"T_bfe287f0_0b43_11ea_b52a_3065ec906c05row5_col3\" class=\"data row5 col3\" >1.39285</td> \n",
       "        <td id=\"T_bfe287f0_0b43_11ea_b52a_3065ec906c05row5_col4\" class=\"data row5 col4\" >-0.063328</td> \n",
       "    </tr>    <tr> \n",
       "        <th id=\"T_bfe287f0_0b43_11ea_b52a_3065ec906c05level0_row6\" class=\"row_heading level0 row6\" >6</th> \n",
       "        <td id=\"T_bfe287f0_0b43_11ea_b52a_3065ec906c05row6_col0\" class=\"data row6 col0\" >7</td> \n",
       "        <td id=\"T_bfe287f0_0b43_11ea_b52a_3065ec906c05row6_col1\" class=\"data row6 col1\" >0.121668</td> \n",
       "        <td id=\"T_bfe287f0_0b43_11ea_b52a_3065ec906c05row6_col2\" class=\"data row6 col2\" >1.2076</td> \n",
       "        <td id=\"T_bfe287f0_0b43_11ea_b52a_3065ec906c05row6_col3\" class=\"data row6 col3\" >-0.00204021</td> \n",
       "        <td id=\"T_bfe287f0_0b43_11ea_b52a_3065ec906c05row6_col4\" class=\"data row6 col4\" >1.6278</td> \n",
       "    </tr>    <tr> \n",
       "        <th id=\"T_bfe287f0_0b43_11ea_b52a_3065ec906c05level0_row7\" class=\"row_heading level0 row7\" >7</th> \n",
       "        <td id=\"T_bfe287f0_0b43_11ea_b52a_3065ec906c05row7_col0\" class=\"data row7 col0\" >8</td> \n",
       "        <td id=\"T_bfe287f0_0b43_11ea_b52a_3065ec906c05row7_col1\" class=\"data row7 col1\" >0.354493</td> \n",
       "        <td id=\"T_bfe287f0_0b43_11ea_b52a_3065ec906c05row7_col2\" class=\"data row7 col2\" >1.03753</td> \n",
       "        <td id=\"T_bfe287f0_0b43_11ea_b52a_3065ec906c05row7_col3\" class=\"data row7 col3\" >-0.385684</td> \n",
       "        <td id=\"T_bfe287f0_0b43_11ea_b52a_3065ec906c05row7_col4\" class=\"data row7 col4\" >0.519818</td> \n",
       "    </tr>    <tr> \n",
       "        <th id=\"T_bfe287f0_0b43_11ea_b52a_3065ec906c05level0_row8\" class=\"row_heading level0 row8\" >8</th> \n",
       "        <td id=\"T_bfe287f0_0b43_11ea_b52a_3065ec906c05row8_col0\" class=\"data row8 col0\" >9</td> \n",
       "        <td id=\"T_bfe287f0_0b43_11ea_b52a_3065ec906c05row8_col1\" class=\"data row8 col1\" >1.68658</td> \n",
       "        <td id=\"T_bfe287f0_0b43_11ea_b52a_3065ec906c05row8_col2\" class=\"data row8 col2\" >-1.32596</td> \n",
       "        <td id=\"T_bfe287f0_0b43_11ea_b52a_3065ec906c05row8_col3\" class=\"data row8 col3\" >1.42898</td> \n",
       "        <td id=\"T_bfe287f0_0b43_11ea_b52a_3065ec906c05row8_col4\" class=\"data row8 col4\" >-2.08935</td> \n",
       "    </tr>    <tr> \n",
       "        <th id=\"T_bfe287f0_0b43_11ea_b52a_3065ec906c05level0_row9\" class=\"row_heading level0 row9\" >9</th> \n",
       "        <td id=\"T_bfe287f0_0b43_11ea_b52a_3065ec906c05row9_col0\" class=\"data row9 col0\" >10</td> \n",
       "        <td id=\"T_bfe287f0_0b43_11ea_b52a_3065ec906c05row9_col1\" class=\"data row9 col1\" >-0.12982</td> \n",
       "        <td id=\"T_bfe287f0_0b43_11ea_b52a_3065ec906c05row9_col2\" class=\"data row9 col2\" >0.631523</td> \n",
       "        <td id=\"T_bfe287f0_0b43_11ea_b52a_3065ec906c05row9_col3\" class=\"data row9 col3\" >-0.586538</td> \n",
       "        <td id=\"T_bfe287f0_0b43_11ea_b52a_3065ec906c05row9_col4\" class=\"data row9 col4\" >0.29072</td> \n",
       "    </tr></tbody> \n",
       "</table> "
      ],
      "text/plain": [
       "<pandas.io.formats.style.Styler at 0xbabd470>"
      ]
     },
     "execution_count": 54,
     "metadata": {},
     "output_type": "execute_result"
    }
   ],
   "source": [
    "df.style.\\\n",
    "    applymap(color_negative_red).\\\n",
    "    apply(highlight_max)"
   ]
  },
  {
   "cell_type": "code",
   "execution_count": 55,
   "metadata": {},
   "outputs": [
    {
     "data": {
      "text/html": [
       "<style  type=\"text/css\" >\n",
       "    #T_d1436230_0b43_11ea_9dd3_3065ec906c05row0_col0 {\n",
       "            width:  10em;\n",
       "             height:  80%;\n",
       "            background:  linear-gradient(90deg, transparent 0%, transparent 0.0%, #5fba7d 0.0%, #5fba7d 10.0%, transparent 10.0%);\n",
       "        }    #T_d1436230_0b43_11ea_9dd3_3065ec906c05row0_col1 {\n",
       "            width:  10em;\n",
       "             height:  80%;\n",
       "            background:  linear-gradient(90deg, transparent 0%, transparent 49.1%, #5fba7d 49.1%, #5fba7d 89.2%, transparent 89.2%);\n",
       "        }    #T_d1436230_0b43_11ea_9dd3_3065ec906c05row1_col0 {\n",
       "            width:  10em;\n",
       "             height:  80%;\n",
       "            background:  linear-gradient(90deg, transparent 0%, transparent 0.0%, #5fba7d 0.0%, #5fba7d 20.0%, transparent 20.0%);\n",
       "        }    #T_d1436230_0b43_11ea_9dd3_3065ec906c05row1_col1 {\n",
       "            width:  10em;\n",
       "             height:  80%;\n",
       "            background:  linear-gradient(90deg, transparent 0%, transparent 16.8%, #d65f5f 16.8%, #d65f5f 49.1%, transparent 49.1%);\n",
       "        }    #T_d1436230_0b43_11ea_9dd3_3065ec906c05row2_col0 {\n",
       "            width:  10em;\n",
       "             height:  80%;\n",
       "            background:  linear-gradient(90deg, transparent 0%, transparent 0.0%, #5fba7d 0.0%, #5fba7d 30.0%, transparent 30.0%);\n",
       "        }    #T_d1436230_0b43_11ea_9dd3_3065ec906c05row2_col1 {\n",
       "            width:  10em;\n",
       "             height:  80%;\n",
       "            background:  linear-gradient(90deg, transparent 0%, transparent 0.0%, #d65f5f 0.0%, #d65f5f 49.1%, transparent 49.1%);\n",
       "        }    #T_d1436230_0b43_11ea_9dd3_3065ec906c05row3_col0 {\n",
       "            width:  10em;\n",
       "             height:  80%;\n",
       "            background:  linear-gradient(90deg, transparent 0%, transparent 0.0%, #5fba7d 0.0%, #5fba7d 40.0%, transparent 40.0%);\n",
       "        }    #T_d1436230_0b43_11ea_9dd3_3065ec906c05row3_col1 {\n",
       "            width:  10em;\n",
       "             height:  80%;\n",
       "            background:  linear-gradient(90deg, transparent 0%, transparent 49.1%, #5fba7d 49.1%, #5fba7d 78.1%, transparent 78.1%);\n",
       "        }    #T_d1436230_0b43_11ea_9dd3_3065ec906c05row4_col0 {\n",
       "            width:  10em;\n",
       "             height:  80%;\n",
       "            background:  linear-gradient(90deg, transparent 0%, transparent 0.0%, #5fba7d 0.0%, #5fba7d 50.0%, transparent 50.0%);\n",
       "        }    #T_d1436230_0b43_11ea_9dd3_3065ec906c05row4_col1 {\n",
       "            width:  10em;\n",
       "             height:  80%;\n",
       "            background:  linear-gradient(90deg, transparent 0%, transparent 49.1%, #5fba7d 49.1%, #5fba7d 93.0%, transparent 93.0%);\n",
       "        }    #T_d1436230_0b43_11ea_9dd3_3065ec906c05row5_col0 {\n",
       "            width:  10em;\n",
       "             height:  80%;\n",
       "            background:  linear-gradient(90deg, transparent 0%, transparent 0.0%, #5fba7d 0.0%, #5fba7d 60.0%, transparent 60.0%);\n",
       "        }    #T_d1436230_0b43_11ea_9dd3_3065ec906c05row5_col1 {\n",
       "            width:  10em;\n",
       "             height:  80%;\n",
       "            background:  linear-gradient(90deg, transparent 0%, transparent 8.7%, #d65f5f 8.7%, #d65f5f 49.1%, transparent 49.1%);\n",
       "        }    #T_d1436230_0b43_11ea_9dd3_3065ec906c05row6_col0 {\n",
       "            width:  10em;\n",
       "             height:  80%;\n",
       "            background:  linear-gradient(90deg, transparent 0%, transparent 0.0%, #5fba7d 0.0%, #5fba7d 70.0%, transparent 70.0%);\n",
       "        }    #T_d1436230_0b43_11ea_9dd3_3065ec906c05row6_col1 {\n",
       "            width:  10em;\n",
       "             height:  80%;\n",
       "            background:  linear-gradient(90deg, transparent 0%, transparent 49.1%, #5fba7d 49.1%, #5fba7d 52.8%, transparent 52.8%);\n",
       "        }    #T_d1436230_0b43_11ea_9dd3_3065ec906c05row7_col0 {\n",
       "            width:  10em;\n",
       "             height:  80%;\n",
       "            background:  linear-gradient(90deg, transparent 0%, transparent 0.0%, #5fba7d 0.0%, #5fba7d 80.0%, transparent 80.0%);\n",
       "        }    #T_d1436230_0b43_11ea_9dd3_3065ec906c05row7_col1 {\n",
       "            width:  10em;\n",
       "             height:  80%;\n",
       "            background:  linear-gradient(90deg, transparent 0%, transparent 49.1%, #5fba7d 49.1%, #5fba7d 59.8%, transparent 59.8%);\n",
       "        }    #T_d1436230_0b43_11ea_9dd3_3065ec906c05row8_col0 {\n",
       "            width:  10em;\n",
       "             height:  80%;\n",
       "            background:  linear-gradient(90deg, transparent 0%, transparent 0.0%, #5fba7d 0.0%, #5fba7d 90.0%, transparent 90.0%);\n",
       "        }    #T_d1436230_0b43_11ea_9dd3_3065ec906c05row8_col1 {\n",
       "            width:  10em;\n",
       "             height:  80%;\n",
       "            background:  linear-gradient(90deg, transparent 0%, transparent 49.1%, #5fba7d 49.1%, #5fba7d 100.0%, transparent 100.0%);\n",
       "        }    #T_d1436230_0b43_11ea_9dd3_3065ec906c05row9_col0 {\n",
       "            width:  10em;\n",
       "             height:  80%;\n",
       "            background:  linear-gradient(90deg, transparent 0%, transparent 0.0%, #5fba7d 0.0%, #5fba7d 100.0%, transparent 100.0%);\n",
       "        }    #T_d1436230_0b43_11ea_9dd3_3065ec906c05row9_col1 {\n",
       "            width:  10em;\n",
       "             height:  80%;\n",
       "            background:  linear-gradient(90deg, transparent 0%, transparent 45.2%, #d65f5f 45.2%, #d65f5f 49.1%, transparent 49.1%);\n",
       "        }</style>  \n",
       "<table id=\"T_d1436230_0b43_11ea_9dd3_3065ec906c05\" > \n",
       "<thead>    <tr> \n",
       "        <th class=\"blank level0\" ></th> \n",
       "        <th class=\"col_heading level0 col0\" >A</th> \n",
       "        <th class=\"col_heading level0 col1\" >B</th> \n",
       "        <th class=\"col_heading level0 col2\" >C</th> \n",
       "        <th class=\"col_heading level0 col3\" >D</th> \n",
       "        <th class=\"col_heading level0 col4\" >E</th> \n",
       "    </tr></thead> \n",
       "<tbody>    <tr> \n",
       "        <th id=\"T_d1436230_0b43_11ea_9dd3_3065ec906c05level0_row0\" class=\"row_heading level0 row0\" >0</th> \n",
       "        <td id=\"T_d1436230_0b43_11ea_9dd3_3065ec906c05row0_col0\" class=\"data row0 col0\" >1</td> \n",
       "        <td id=\"T_d1436230_0b43_11ea_9dd3_3065ec906c05row0_col1\" class=\"data row0 col1\" >1.32921</td> \n",
       "        <td id=\"T_d1436230_0b43_11ea_9dd3_3065ec906c05row0_col2\" class=\"data row0 col2\" >nan</td> \n",
       "        <td id=\"T_d1436230_0b43_11ea_9dd3_3065ec906c05row0_col3\" class=\"data row0 col3\" >-0.31628</td> \n",
       "        <td id=\"T_d1436230_0b43_11ea_9dd3_3065ec906c05row0_col4\" class=\"data row0 col4\" >-0.99081</td> \n",
       "    </tr>    <tr> \n",
       "        <th id=\"T_d1436230_0b43_11ea_9dd3_3065ec906c05level0_row1\" class=\"row_heading level0 row1\" >1</th> \n",
       "        <td id=\"T_d1436230_0b43_11ea_9dd3_3065ec906c05row1_col0\" class=\"data row1 col0\" >2</td> \n",
       "        <td id=\"T_d1436230_0b43_11ea_9dd3_3065ec906c05row1_col1\" class=\"data row1 col1\" >-1.07082</td> \n",
       "        <td id=\"T_d1436230_0b43_11ea_9dd3_3065ec906c05row1_col2\" class=\"data row1 col2\" >-1.43871</td> \n",
       "        <td id=\"T_d1436230_0b43_11ea_9dd3_3065ec906c05row1_col3\" class=\"data row1 col3\" >0.564417</td> \n",
       "        <td id=\"T_d1436230_0b43_11ea_9dd3_3065ec906c05row1_col4\" class=\"data row1 col4\" >0.295722</td> \n",
       "    </tr>    <tr> \n",
       "        <th id=\"T_d1436230_0b43_11ea_9dd3_3065ec906c05level0_row2\" class=\"row_heading level0 row2\" >2</th> \n",
       "        <td id=\"T_d1436230_0b43_11ea_9dd3_3065ec906c05row2_col0\" class=\"data row2 col0\" >3</td> \n",
       "        <td id=\"T_d1436230_0b43_11ea_9dd3_3065ec906c05row2_col1\" class=\"data row2 col1\" >-1.6264</td> \n",
       "        <td id=\"T_d1436230_0b43_11ea_9dd3_3065ec906c05row2_col2\" class=\"data row2 col2\" >0.219565</td> \n",
       "        <td id=\"T_d1436230_0b43_11ea_9dd3_3065ec906c05row2_col3\" class=\"data row2 col3\" >0.678805</td> \n",
       "        <td id=\"T_d1436230_0b43_11ea_9dd3_3065ec906c05row2_col4\" class=\"data row2 col4\" >1.88927</td> \n",
       "    </tr>    <tr> \n",
       "        <th id=\"T_d1436230_0b43_11ea_9dd3_3065ec906c05level0_row3\" class=\"row_heading level0 row3\" >3</th> \n",
       "        <td id=\"T_d1436230_0b43_11ea_9dd3_3065ec906c05row3_col0\" class=\"data row3 col0\" >4</td> \n",
       "        <td id=\"T_d1436230_0b43_11ea_9dd3_3065ec906c05row3_col1\" class=\"data row3 col1\" >0.961538</td> \n",
       "        <td id=\"T_d1436230_0b43_11ea_9dd3_3065ec906c05row3_col2\" class=\"data row3 col2\" >0.104011</td> \n",
       "        <td id=\"T_d1436230_0b43_11ea_9dd3_3065ec906c05row3_col3\" class=\"data row3 col3\" >-0.481165</td> \n",
       "        <td id=\"T_d1436230_0b43_11ea_9dd3_3065ec906c05row3_col4\" class=\"data row3 col4\" >0.850229</td> \n",
       "    </tr>    <tr> \n",
       "        <th id=\"T_d1436230_0b43_11ea_9dd3_3065ec906c05level0_row4\" class=\"row_heading level0 row4\" >4</th> \n",
       "        <td id=\"T_d1436230_0b43_11ea_9dd3_3065ec906c05row4_col0\" class=\"data row4 col0\" >5</td> \n",
       "        <td id=\"T_d1436230_0b43_11ea_9dd3_3065ec906c05row4_col1\" class=\"data row4 col1\" >1.45342</td> \n",
       "        <td id=\"T_d1436230_0b43_11ea_9dd3_3065ec906c05row4_col2\" class=\"data row4 col2\" >1.05774</td> \n",
       "        <td id=\"T_d1436230_0b43_11ea_9dd3_3065ec906c05row4_col3\" class=\"data row4 col3\" >0.165562</td> \n",
       "        <td id=\"T_d1436230_0b43_11ea_9dd3_3065ec906c05row4_col4\" class=\"data row4 col4\" >0.515018</td> \n",
       "    </tr>    <tr> \n",
       "        <th id=\"T_d1436230_0b43_11ea_9dd3_3065ec906c05level0_row5\" class=\"row_heading level0 row5\" >5</th> \n",
       "        <td id=\"T_d1436230_0b43_11ea_9dd3_3065ec906c05row5_col0\" class=\"data row5 col0\" >6</td> \n",
       "        <td id=\"T_d1436230_0b43_11ea_9dd3_3065ec906c05row5_col1\" class=\"data row5 col1\" >-1.33694</td> \n",
       "        <td id=\"T_d1436230_0b43_11ea_9dd3_3065ec906c05row5_col2\" class=\"data row5 col2\" >0.562861</td> \n",
       "        <td id=\"T_d1436230_0b43_11ea_9dd3_3065ec906c05row5_col3\" class=\"data row5 col3\" >1.39285</td> \n",
       "        <td id=\"T_d1436230_0b43_11ea_9dd3_3065ec906c05row5_col4\" class=\"data row5 col4\" >-0.063328</td> \n",
       "    </tr>    <tr> \n",
       "        <th id=\"T_d1436230_0b43_11ea_9dd3_3065ec906c05level0_row6\" class=\"row_heading level0 row6\" >6</th> \n",
       "        <td id=\"T_d1436230_0b43_11ea_9dd3_3065ec906c05row6_col0\" class=\"data row6 col0\" >7</td> \n",
       "        <td id=\"T_d1436230_0b43_11ea_9dd3_3065ec906c05row6_col1\" class=\"data row6 col1\" >0.121668</td> \n",
       "        <td id=\"T_d1436230_0b43_11ea_9dd3_3065ec906c05row6_col2\" class=\"data row6 col2\" >1.2076</td> \n",
       "        <td id=\"T_d1436230_0b43_11ea_9dd3_3065ec906c05row6_col3\" class=\"data row6 col3\" >-0.00204021</td> \n",
       "        <td id=\"T_d1436230_0b43_11ea_9dd3_3065ec906c05row6_col4\" class=\"data row6 col4\" >1.6278</td> \n",
       "    </tr>    <tr> \n",
       "        <th id=\"T_d1436230_0b43_11ea_9dd3_3065ec906c05level0_row7\" class=\"row_heading level0 row7\" >7</th> \n",
       "        <td id=\"T_d1436230_0b43_11ea_9dd3_3065ec906c05row7_col0\" class=\"data row7 col0\" >8</td> \n",
       "        <td id=\"T_d1436230_0b43_11ea_9dd3_3065ec906c05row7_col1\" class=\"data row7 col1\" >0.354493</td> \n",
       "        <td id=\"T_d1436230_0b43_11ea_9dd3_3065ec906c05row7_col2\" class=\"data row7 col2\" >1.03753</td> \n",
       "        <td id=\"T_d1436230_0b43_11ea_9dd3_3065ec906c05row7_col3\" class=\"data row7 col3\" >-0.385684</td> \n",
       "        <td id=\"T_d1436230_0b43_11ea_9dd3_3065ec906c05row7_col4\" class=\"data row7 col4\" >0.519818</td> \n",
       "    </tr>    <tr> \n",
       "        <th id=\"T_d1436230_0b43_11ea_9dd3_3065ec906c05level0_row8\" class=\"row_heading level0 row8\" >8</th> \n",
       "        <td id=\"T_d1436230_0b43_11ea_9dd3_3065ec906c05row8_col0\" class=\"data row8 col0\" >9</td> \n",
       "        <td id=\"T_d1436230_0b43_11ea_9dd3_3065ec906c05row8_col1\" class=\"data row8 col1\" >1.68658</td> \n",
       "        <td id=\"T_d1436230_0b43_11ea_9dd3_3065ec906c05row8_col2\" class=\"data row8 col2\" >-1.32596</td> \n",
       "        <td id=\"T_d1436230_0b43_11ea_9dd3_3065ec906c05row8_col3\" class=\"data row8 col3\" >1.42898</td> \n",
       "        <td id=\"T_d1436230_0b43_11ea_9dd3_3065ec906c05row8_col4\" class=\"data row8 col4\" >-2.08935</td> \n",
       "    </tr>    <tr> \n",
       "        <th id=\"T_d1436230_0b43_11ea_9dd3_3065ec906c05level0_row9\" class=\"row_heading level0 row9\" >9</th> \n",
       "        <td id=\"T_d1436230_0b43_11ea_9dd3_3065ec906c05row9_col0\" class=\"data row9 col0\" >10</td> \n",
       "        <td id=\"T_d1436230_0b43_11ea_9dd3_3065ec906c05row9_col1\" class=\"data row9 col1\" >-0.12982</td> \n",
       "        <td id=\"T_d1436230_0b43_11ea_9dd3_3065ec906c05row9_col2\" class=\"data row9 col2\" >0.631523</td> \n",
       "        <td id=\"T_d1436230_0b43_11ea_9dd3_3065ec906c05row9_col3\" class=\"data row9 col3\" >-0.586538</td> \n",
       "        <td id=\"T_d1436230_0b43_11ea_9dd3_3065ec906c05row9_col4\" class=\"data row9 col4\" >0.29072</td> \n",
       "    </tr></tbody> \n",
       "</table> "
      ],
      "text/plain": [
       "<pandas.io.formats.style.Styler at 0xbac2048>"
      ]
     },
     "execution_count": 55,
     "metadata": {},
     "output_type": "execute_result"
    }
   ],
   "source": [
    "df.style.bar(subset=['A', 'B'], align='mid', color=['#d65f5f', '#5fba7d'])"
   ]
  },
  {
   "cell_type": "code",
   "execution_count": 56,
   "metadata": {},
   "outputs": [
    {
     "data": {
      "text/plain": [
       "999"
      ]
     },
     "execution_count": 56,
     "metadata": {},
     "output_type": "execute_result"
    }
   ],
   "source": [
    "pd.options.display.max_rows = 999\n",
    "pd.options.display.max_rows"
   ]
  },
  {
   "cell_type": "code",
   "execution_count": 57,
   "metadata": {},
   "outputs": [
    {
     "data": {
      "image/png": "[encoded data removed]",
      "text/plain": [
       "<Figure size 432x288 with 1 Axes>"
      ]
     },
     "metadata": {},
     "output_type": "display_data"
    }
   ],
   "source": [
    "df2 = pd.DataFrame(np.random.rand(10, 4), columns=['a', 'b', 'c', 'd'])\n",
    "\n",
    "df2.plot.bar();"
   ]
  },
  {
   "cell_type": "code",
   "execution_count": 58,
   "metadata": {},
   "outputs": [
    {
     "data": {
      "image/png": "[encoded data removed]",
      "text/plain": [
       "<Figure size 432x288 with 1 Axes>"
      ]
     },
     "metadata": {},
     "output_type": "display_data"
    }
   ],
   "source": [
    "df2.plot.bar(stacked=True);"
   ]
  },
  {
   "cell_type": "code",
   "execution_count": 59,
   "metadata": {},
   "outputs": [
    {
     "data": {
      "image/png": "[encoded data removed]",
      "text/plain": [
       "<Figure size 432x288 with 1 Axes>"
      ]
     },
     "metadata": {},
     "output_type": "display_data"
    }
   ],
   "source": [
    "df = pd.DataFrame(np.random.rand(50, 4), columns=['a', 'b', 'c', 'd'])\n",
    "df.plot.scatter(x='a', y='b');"
   ]
  },
  {
   "cell_type": "code",
   "execution_count": 60,
   "metadata": {},
   "outputs": [
    {
     "data": {
      "image/png": "[encoded data removed]",
      "text/plain": [
       "<Figure size 432x288 with 1 Axes>"
      ]
     },
     "metadata": {},
     "output_type": "display_data"
    }
   ],
   "source": [
    "ax = df.plot.scatter(x='a', y='b', color='DarkBlue', label='Group 1');\n",
    "df.plot.scatter(x='c', y='d', color='DarkGreen', label='Group 2', ax=ax);"
   ]
  },
  {
   "cell_type": "code",
   "execution_count": 61,
   "metadata": {},
   "outputs": [
    {
     "data": {
      "image/png": "[encoded data removed]",
      "text/plain": [
       "<Figure size 432x288 with 2 Axes>"
      ]
     },
     "metadata": {},
     "output_type": "display_data"
    }
   ],
   "source": [
    "df.plot.scatter(x='a', y='b', c='c', s=50);"
   ]
  },
  {
   "cell_type": "code",
   "execution_count": 62,
   "metadata": {},
   "outputs": [
    {
     "data": {
      "image/png": "[encoded data removed]",
      "text/plain": [
       "<Figure size 432x288 with 1 Axes>"
      ]
     },
     "metadata": {},
     "output_type": "display_data"
    }
   ],
   "source": [
    "df.plot.scatter(x='a', y='b', s=df['c'] * 200);"
   ]
  },
  {
   "cell_type": "code",
   "execution_count": 63,
   "metadata": {},
   "outputs": [
    {
     "data": {
      "text/plain": [
       "array([<matplotlib.axes._subplots.AxesSubplot object at 0x000000000BC3EEF0>,\n",
       "       <matplotlib.axes._subplots.AxesSubplot object at 0x000000000BBCB5C0>],\n",
       "      dtype=object)"
      ]
     },
     "execution_count": 63,
     "metadata": {},
     "output_type": "execute_result"
    },
    {
     "data": {
      "image/png": "[encoded data removed]",
      "text/plain": [
       "<Figure size 576x288 with 2 Axes>"
      ]
     },
     "metadata": {},
     "output_type": "display_data"
    }
   ],
   "source": [
    "df = pd.DataFrame(3 * np.random.rand(4, 2),index=['a', 'b', 'c', 'd'], columns=['x', 'y'])\n",
    "df.plot.pie(subplots=True, figsize=(8, 4))"
   ]
  },
  {
   "cell_type": "code",
   "execution_count": 64,
   "metadata": {},
   "outputs": [
    {
     "ename": "NameError",
     "evalue": "name 'series' is not defined",
     "output_type": "error",
     "traceback": [
      "\u001b[1;31m\u001b[0m",
      "\u001b[1;31mNameError\u001b[0mTraceback (most recent call last)",
      "\u001b[1;32m<ipython-input-64-891daa2f3246>\u001b[0m in \u001b[0;36m<module>\u001b[1;34m()\u001b[0m\n\u001b[1;32m----> 1\u001b[1;33m \u001b[0mseries\u001b[0m\u001b[1;33m.\u001b[0m\u001b[0mplot\u001b[0m\u001b[1;33m.\u001b[0m\u001b[0mpie\u001b[0m\u001b[1;33m(\u001b[0m\u001b[0mlabels\u001b[0m\u001b[1;33m=\u001b[0m\u001b[1;33m[\u001b[0m\u001b[1;34m'AA'\u001b[0m\u001b[1;33m,\u001b[0m \u001b[1;34m'BB'\u001b[0m\u001b[1;33m,\u001b[0m \u001b[1;34m'CC'\u001b[0m\u001b[1;33m,\u001b[0m \u001b[1;34m'DD'\u001b[0m\u001b[1;33m]\u001b[0m\u001b[1;33m,\u001b[0m \u001b[0mcolors\u001b[0m\u001b[1;33m=\u001b[0m\u001b[1;33m[\u001b[0m\u001b[1;34m'r'\u001b[0m\u001b[1;33m,\u001b[0m \u001b[1;34m'g'\u001b[0m\u001b[1;33m,\u001b[0m \u001b[1;34m'b'\u001b[0m\u001b[1;33m,\u001b[0m \u001b[1;34m'c'\u001b[0m\u001b[1;33m]\u001b[0m\u001b[1;33m,\u001b[0m \u001b[0mautopct\u001b[0m\u001b[1;33m=\u001b[0m\u001b[1;34m'%.2f'\u001b[0m\u001b[1;33m,\u001b[0m \u001b[0mfontsize\u001b[0m\u001b[1;33m=\u001b[0m\u001b[1;36m20\u001b[0m\u001b[1;33m,\u001b[0m \u001b[0mfigsize\u001b[0m\u001b[1;33m=\u001b[0m\u001b[1;33m(\u001b[0m\u001b[1;36m6\u001b[0m\u001b[1;33m,\u001b[0m \u001b[1;36m6\u001b[0m\u001b[1;33m)\u001b[0m\u001b[1;33m)\u001b[0m\u001b[1;33m\u001b[0m\u001b[0m\n\u001b[0m",
      "\u001b[1;31mNameError\u001b[0m: name 'series' is not defined"
     ]
    }
   ],
   "source": [
    "series.plot.pie(labels=['AA', 'BB', 'CC', 'DD'], colors=['r', 'g', 'b', 'c'], autopct='%.2f', fontsize=20, figsize=(6, 6))"
   ]
  },
  {
   "cell_type": "code",
   "execution_count": null,
   "metadata": {},
   "outputs": [],
   "source": []
  }
 ],
 "metadata": {
  "kernelspec": {
   "display_name": "Python 2",
   "language": "python",
   "name": "python2"
  },
  "language_info": {
   "codemirror_mode": {
    "name": "ipython",
    "version": 2
   },
   "file_extension": ".py",
   "mimetype": "text/x-python",
   "name": "python",
   "nbconvert_exporter": "python",
   "pygments_lexer": "ipython2",
   "version": "2.7.15"
  }
 },
 "nbformat": 4,
 "nbformat_minor": 2
}
